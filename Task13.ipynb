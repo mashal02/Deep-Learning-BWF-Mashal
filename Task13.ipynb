{
 "cells": [
  {
   "cell_type": "code",
   "execution_count": 1,
   "id": "698c6eca",
   "metadata": {},
   "outputs": [
    {
     "name": "stdout",
     "output_type": "stream",
     "text": [
      "0    1\n",
      "1    3\n",
      "2    5\n",
      "3    7\n",
      "4    9\n",
      "dtype: int64\n"
     ]
    }
   ],
   "source": [
    "#Series\n",
    "import pandas as pd\n",
    "\n",
    "data = [1, 3, 5, 7, 9]\n",
    "series = pd.Series(data)\n",
    "print(series)\n"
   ]
  },
  {
   "cell_type": "code",
   "execution_count": 2,
   "id": "31ec173f",
   "metadata": {},
   "outputs": [
    {
     "name": "stdout",
     "output_type": "stream",
     "text": [
      "a    1\n",
      "b    3\n",
      "c    5\n",
      "d    7\n",
      "e    9\n",
      "dtype: int64\n"
     ]
    }
   ],
   "source": [
    "import pandas as pd\n",
    "\n",
    "data = [1, 3, 5, 7, 9]\n",
    "labels = ['a', 'b', 'c', 'd', 'e']\n",
    "series = pd.Series(data, index=labels)\n",
    "print(series)\n"
   ]
  },
  {
   "cell_type": "code",
   "execution_count": 3,
   "id": "de3a58e2",
   "metadata": {},
   "outputs": [
    {
     "name": "stdout",
     "output_type": "stream",
     "text": [
      "a    10\n",
      "b    20\n",
      "c    30\n",
      "d    40\n",
      "e    50\n",
      "dtype: int64\n"
     ]
    }
   ],
   "source": [
    "import pandas as pd\n",
    "\n",
    "data = {'a': 10, 'b': 20, 'c': 30, 'd': 40, 'e': 50}\n",
    "\n",
    "series = pd.Series(data)\n",
    "print(series)\n"
   ]
  },
  {
   "cell_type": "code",
   "execution_count": 4,
   "id": "827ecbfb",
   "metadata": {},
   "outputs": [
    {
     "name": "stdout",
     "output_type": "stream",
     "text": [
      "a    15\n",
      "b    30\n",
      "c    45\n",
      "d    60\n",
      "e    75\n",
      "dtype: int64\n"
     ]
    }
   ],
   "source": [
    "import pandas as pd\n",
    "\n",
    "data1 = [10, 20, 30, 40, 50]\n",
    "data2 = [5, 10, 15, 20, 25]\n",
    "index_labels = ['a', 'b', 'c', 'd', 'e']\n",
    "\n",
    "series1 = pd.Series(data1, index=index_labels)\n",
    "series2 = pd.Series(data2, index=index_labels)\n",
    "\n",
    "series_sum = series1 + series2\n",
    "print(series_sum)\n"
   ]
  },
  {
   "cell_type": "code",
   "execution_count": 5,
   "id": "2a450167",
   "metadata": {},
   "outputs": [
    {
     "name": "stdout",
     "output_type": "stream",
     "text": [
      "First Element: 10\n",
      "Last Element: 50\n"
     ]
    }
   ],
   "source": [
    "import pandas as pd\n",
    "\n",
    "data = [10, 20, 30, 40, 50]\n",
    "index_labels = ['a', 'b', 'c', 'd', 'e']\n",
    "\n",
    "series = pd.Series(data, index=index_labels)\n",
    "\n",
    "first_element = series.iloc[0]\n",
    "last_element = series.iloc[-1]\n",
    "\n",
    "print(\"First Element:\", first_element)\n",
    "print(\"Last Element:\", last_element)\n"
   ]
  },
  {
   "cell_type": "code",
   "execution_count": 6,
   "id": "346c5bde",
   "metadata": {},
   "outputs": [
    {
     "name": "stdout",
     "output_type": "stream",
     "text": [
      "a    10\n",
      "c    30\n",
      "e    50\n",
      "g    70\n",
      "i    90\n",
      "dtype: int64\n"
     ]
    }
   ],
   "source": [
    "#accessing every other alternate element of series\n",
    "import pandas as pd\n",
    "\n",
    "data = [10, 20, 30, 40, 50, 60, 70, 80, 90]\n",
    "index_labels = ['a', 'b', 'c', 'd', 'e', 'f', 'g', 'h', 'i']\n",
    "\n",
    "series = pd.Series(data, index=index_labels)\n",
    "\n",
    "new_series = series[::2]\n",
    "print(new_series)\n"
   ]
  },
  {
   "cell_type": "code",
   "execution_count": 9,
   "id": "25f14553",
   "metadata": {},
   "outputs": [
    {
     "name": "stdout",
     "output_type": "stream",
     "text": [
      "d    40\n",
      "e    50\n",
      "dtype: int64\n"
     ]
    }
   ],
   "source": [
    "#Use boolean indexing to select specific elements from a Pandas Series.\n",
    "import pandas as pd\n",
    "\n",
    "data = [10, 20, 30, 40, 50]\n",
    "index_labels = ['a', 'b', 'c', 'd', 'e']\n",
    "\n",
    "series = pd.Series(data, index=index_labels)\n",
    "\n",
    "boolean_index = series > 30\n",
    "selected_elements = series[boolean_index]\n",
    "print(selected_elements)\n"
   ]
  },
  {
   "cell_type": "code",
   "execution_count": 10,
   "id": "c285e35d",
   "metadata": {},
   "outputs": [
    {
     "name": "stdout",
     "output_type": "stream",
     "text": [
      "       name  age gender\n",
      "p1    Alice   25      F\n",
      "p2      Bob   32      M\n",
      "p3  Charlie   18      M\n",
      "p4    David   47      M\n"
     ]
    }
   ],
   "source": [
    "#DATA FRAMES\n",
    "import pandas as pd\n",
    "\n",
    "data = {'name': ['Alice', 'Bob', 'Charlie', 'David'],\n",
    "        'age': [25, 32, 18, 47],\n",
    "        'gender': ['F', 'M', 'M', 'M']}\n",
    "\n",
    "df = pd.DataFrame(data, index=['p1', 'p2', 'p3', 'p4'], columns=['name', 'age', 'gender'])\n",
    "print(df)\n"
   ]
  },
  {
   "cell_type": "code",
   "execution_count": 11,
   "id": "4bbb0307",
   "metadata": {},
   "outputs": [
    {
     "name": "stdout",
     "output_type": "stream",
     "text": [
      "0    25\n",
      "1    32\n",
      "2    18\n",
      "3    47\n",
      "Name: age, dtype: int64\n"
     ]
    }
   ],
   "source": [
    "import pandas as pd\n",
    "\n",
    "data = {'name': ['Alice', 'Bob', 'Charlie', 'David'],\n",
    "        'age': [25, 32, 18, 47],\n",
    "        'gender': ['F', 'M', 'M', 'M']}\n",
    "\n",
    "df = pd.DataFrame(data)\n",
    "\n",
    "# Select the 'age' column\n",
    "age_col = df['age']\n",
    "print(age_col)\n"
   ]
  },
  {
   "cell_type": "code",
   "execution_count": 12,
   "id": "986bb323",
   "metadata": {},
   "outputs": [
    {
     "name": "stdout",
     "output_type": "stream",
     "text": [
      "    name  age gender\n",
      "1    Bob   32      M\n",
      "3  David   47      M\n"
     ]
    }
   ],
   "source": [
    "import pandas as pd\n",
    "\n",
    "data = {'name': ['Alice', 'Bob', 'Charlie', 'David'],\n",
    "        'age': [25, 32, 18, 47],\n",
    "        'gender': ['F', 'M', 'M', 'M']}\n",
    "\n",
    "df = pd.DataFrame(data)\n",
    "\n",
    "# Select the row(s) where age is greater than 30\n",
    "selected_rows = df[df['age'] > 30]\n",
    "print(selected_rows)\n"
   ]
  },
  {
   "cell_type": "code",
   "execution_count": 13,
   "id": "ce19fec1",
   "metadata": {},
   "outputs": [
    {
     "name": "stdout",
     "output_type": "stream",
     "text": [
      "      name  age gender age_group\n",
      "0    Alice   25      F     18-30\n",
      "1      Bob   32      M   Over 30\n",
      "2  Charlie   18      M  Under 18\n",
      "3    David   47      M   Over 30\n"
     ]
    }
   ],
   "source": [
    "import pandas as pd\n",
    "\n",
    "data = {'name': ['Alice', 'Bob', 'Charlie', 'David'],\n",
    "        'age': [25, 32, 18, 47],\n",
    "        'gender': ['F', 'M', 'M', 'M']}\n",
    "\n",
    "df = pd.DataFrame(data)\n",
    "\n",
    "# Add a new column 'age_group' based on the 'age' column\n",
    "df['age_group'] = pd.cut(df['age'], [0, 18, 30, 50], labels=['Under 18', '18-30', 'Over 30'])\n",
    "print(df)\n"
   ]
  },
  {
   "cell_type": "code",
   "execution_count": null,
   "id": "2679f0c1",
   "metadata": {},
   "outputs": [],
   "source": [
    "\n"
   ]
  },
  {
   "cell_type": "code",
   "execution_count": null,
   "id": "c6830d85",
   "metadata": {},
   "outputs": [],
   "source": []
  }
 ],
 "metadata": {
  "kernelspec": {
   "display_name": "Python 3 (ipykernel)",
   "language": "python",
   "name": "python3"
  },
  "language_info": {
   "codemirror_mode": {
    "name": "ipython",
    "version": 3
   },
   "file_extension": ".py",
   "mimetype": "text/x-python",
   "name": "python",
   "nbconvert_exporter": "python",
   "pygments_lexer": "ipython3",
   "version": "3.9.13"
  }
 },
 "nbformat": 4,
 "nbformat_minor": 5
}
