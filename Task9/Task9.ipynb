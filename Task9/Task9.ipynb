{
 "cells": [
  {
   "cell_type": "code",
   "execution_count": 1,
   "id": "eda80110",
   "metadata": {},
   "outputs": [
    {
     "name": "stdout",
     "output_type": "stream",
     "text": [
      "In Python you can write simple and complex programs.\n",
      "In Python you can use dynamic typing and don't need to declare variables.\n",
      "In Python you can use a wide range of libraries and frameworks.\n",
      "\n",
      "In Python you can write simple and complex programs.\n",
      "In Python you can use dynamic typing and don't need to declare variables.\n",
      "In Python you can use a wide range of libraries and frameworks.\n",
      "In Python you can write simple and complex programs.\n",
      "In Python you can use dynamic typing and don't need to declare variables.\n",
      "In Python you can use a wide range of libraries and frameworks.\n"
     ]
    }
   ],
   "source": [
    "filename = 'learning_Python.txt'\n",
    "\n",
    "# Reading in the entire file\n",
    "with open(filename) as file_object:\n",
    "    contents = file_object.read()\n",
    "print(contents)\n",
    "\n",
    "# Looping over the file object\n",
    "with open(filename) as file_object:\n",
    "    for line in file_object:\n",
    "        print(line.strip())\n",
    "\n",
    "# Storing the lines in a list and working with them outside the with block\n",
    "with open(filename) as file_object:\n",
    "    lines = file_object.readlines()\n",
    "\n",
    "for line in lines:\n",
    "    print(line.strip())\n"
   ]
  },
  {
   "cell_type": "code",
   "execution_count": 3,
   "id": "38e3c325",
   "metadata": {},
   "outputs": [
    {
     "name": "stdout",
     "output_type": "stream",
     "text": [
      "In Java you can write simple and complex programs.\n",
      "In Java you can use dynamic typing and don't need to declare variables.\n",
      "In Java you can use a wide range of libraries and frameworks.\n"
     ]
    }
   ],
   "source": [
    "filename = 'Learning_Python.txt'\n",
    "\n",
    "with open(filename) as file_object:\n",
    "    lines = file_object.readlines()\n",
    "\n",
    "for line in lines:\n",
    "    modified_line = line.replace('Python', 'Java')\n",
    "    print(modified_line.rstrip())\n",
    "\n",
    "    "
   ]
  },
  {
   "cell_type": "code",
   "execution_count": 4,
   "id": "f64b3649",
   "metadata": {},
   "outputs": [
    {
     "name": "stdout",
     "output_type": "stream",
     "text": [
      "What's your name? Mashal\n"
     ]
    }
   ],
   "source": [
    "filename = 'guest.txt'\n",
    "\n",
    "name = input(\"What's your name? \")\n",
    "\n",
    "with open(filename, 'w') as file_object:\n",
    "    file_object.write(name)\n"
   ]
  },
  {
   "cell_type": "code",
   "execution_count": 5,
   "id": "810bcbb5",
   "metadata": {},
   "outputs": [
    {
     "name": "stdout",
     "output_type": "stream",
     "text": [
      "What's your name? (Type 'quit' to exit) Mashal\n",
      "Welcome, Mashal!\n",
      "What's your name? (Type 'quit' to exit) quit\n"
     ]
    }
   ],
   "source": [
    "filename = 'guest_book.txt'\n",
    "\n",
    "while True:\n",
    "    name = input(\"What's your name? (Type 'quit' to exit) \")\n",
    "    if name == 'quit':\n",
    "        break\n",
    "    else:\n",
    "        print(f\"Welcome, {name.title()}!\")\n",
    "        with open(filename, 'a') as file_object:\n",
    "            file_object.write(name.title() + '\\n')\n"
   ]
  },
  {
   "cell_type": "code",
   "execution_count": 6,
   "id": "96e74af5",
   "metadata": {},
   "outputs": [
    {
     "name": "stdout",
     "output_type": "stream",
     "text": [
      "Why do you like programming? (Type 'quit' to exit) I don't know\n",
      "Why do you like programming? (Type 'quit' to exit) quit\n"
     ]
    }
   ],
   "source": [
    "#EXCEPTION HANDLING\n",
    "filename = 'programming_poll.txt'\n",
    "\n",
    "while True:\n",
    "    reason = input(\"Why do you like programming? (Type 'quit' to exit) \")\n",
    "    if reason == 'quit':\n",
    "        break\n",
    "    else:\n",
    "        with open(filename, 'a') as file_object:\n",
    "            file_object.write(reason + '\\n')\n"
   ]
  },
  {
   "cell_type": "code",
   "execution_count": 7,
   "id": "1bdfec3c",
   "metadata": {},
   "outputs": [
    {
     "name": "stdout",
     "output_type": "stream",
     "text": [
      "Enter the first number: 20\n",
      "Enter the second number: 8\n",
      "The result is: 28\n"
     ]
    }
   ],
   "source": [
    "while True:\n",
    "    try:\n",
    "        first_number = int(input(\"Enter the first number: \"))\n",
    "        second_number = int(input(\"Enter the second number: \"))\n",
    "        result = first_number + second_number\n",
    "    except ValueError:\n",
    "        print(\"Please enter a valid number.\")\n",
    "    else:\n",
    "        print(f\"The result is: {result}\")\n",
    "        break\n",
    "\n",
    "        "
   ]
  },
  {
   "cell_type": "code",
   "execution_count": 8,
   "id": "63ced36d",
   "metadata": {},
   "outputs": [
    {
     "name": "stdout",
     "output_type": "stream",
     "text": [
      "\n",
      "cats.txt not found.\n",
      "\n",
      "dogs.txt not found.\n"
     ]
    }
   ],
   "source": [
    "filenames = ['cats.txt', 'dogs.txt']\n",
    "\n",
    "for filename in filenames:\n",
    "    try:\n",
    "        with open(filename, 'r') as file:\n",
    "            contents = file.read()\n",
    "            print(f\"\\n{filename}:\")\n",
    "            print(contents)\n",
    "    except FileNotFoundError:\n",
    "        print(f\"\\n{filename} not found.\")\n",
    "\n",
    "        "
   ]
  },
  {
   "cell_type": "code",
   "execution_count": null,
   "id": "f81a2fed",
   "metadata": {},
   "outputs": [],
   "source": []
  }
 ],
 "metadata": {
  "kernelspec": {
   "display_name": "Python 3 (ipykernel)",
   "language": "python",
   "name": "python3"
  },
  "language_info": {
   "codemirror_mode": {
    "name": "ipython",
    "version": 3
   },
   "file_extension": ".py",
   "mimetype": "text/x-python",
   "name": "python",
   "nbconvert_exporter": "python",
   "pygments_lexer": "ipython3",
   "version": "3.9.13"
  }
 },
 "nbformat": 4,
 "nbformat_minor": 5
}
