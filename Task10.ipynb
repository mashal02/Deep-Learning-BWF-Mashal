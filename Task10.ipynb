{
 "cells": [
  {
   "cell_type": "code",
   "execution_count": 5,
   "id": "b7aa6515",
   "metadata": {},
   "outputs": [
    {
     "name": "stdout",
     "output_type": "stream",
     "text": [
      "[1 2 3 4 5]\n",
      "[[1 2 3]\n",
      " [4 5 6]\n",
      " [7 8 9]]\n",
      "[[ 6  8]\n",
      " [10 12]]\n",
      "[[-4 -4]\n",
      " [-4 -4]]\n",
      "[[ 5 12]\n",
      " [21 32]]\n",
      "[[0.2        0.33333333]\n",
      " [0.42857143 0.5       ]]\n",
      "9\n",
      "14\n"
     ]
    }
   ],
   "source": [
    "import numpy as np\n",
    "\n",
    "# Create a single-dimensional array\n",
    "arr1 = np.array([1, 2, 3, 4, 5])\n",
    "print(arr1)   # [1 2 3 4 5]\n",
    "\n",
    "# Create a multi-dimensional array\n",
    "arr2 = np.array([[1, 2, 3], [4, 5, 6], [7, 8, 9]])\n",
    "print(arr2)\n",
    "# [[1 2 3]\n",
    "#  [4 5 6]\n",
    "#  [7 8 9]]\n",
    "\n",
    "# Perform arithmetic operations on two multi-dimensional arrays\n",
    "arr3 = np.array([[1, 2], [3, 4]])\n",
    "arr4 = np.array([[5, 6], [7, 8]])\n",
    "print(arr3 + arr4)\n",
    "print(arr3 - arr4)\n",
    "\n",
    "print(arr3 * arr4)\n",
    "\n",
    "print(arr3 / arr4)\n",
    "\n",
    "\n",
    "\n",
    "#accessing elements\n",
    "print(arr3[0][1]+arr4[1][0])\n",
    "#accessing elements\n",
    "print(arr3[0][1]*arr4[1][0])\n"
   ]
  },
  {
   "cell_type": "code",
   "execution_count": null,
   "id": "32a6eff0",
   "metadata": {},
   "outputs": [],
   "source": []
  }
 ],
 "metadata": {
  "kernelspec": {
   "display_name": "Python 3 (ipykernel)",
   "language": "python",
   "name": "python3"
  },
  "language_info": {
   "codemirror_mode": {
    "name": "ipython",
    "version": 3
   },
   "file_extension": ".py",
   "mimetype": "text/x-python",
   "name": "python",
   "nbconvert_exporter": "python",
   "pygments_lexer": "ipython3",
   "version": "3.9.13"
  }
 },
 "nbformat": 4,
 "nbformat_minor": 5
}
