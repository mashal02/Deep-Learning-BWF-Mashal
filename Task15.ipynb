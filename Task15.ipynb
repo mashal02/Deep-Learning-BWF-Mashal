{
 "cells": [
  {
   "cell_type": "code",
   "execution_count": 1,
   "id": "a4dbf8c7",
   "metadata": {},
   "outputs": [
    {
     "name": "stdout",
     "output_type": "stream",
     "text": [
      "0     5.0\n",
      "1    10.0\n",
      "2    15.0\n",
      "3    27.5\n",
      "4    25.0\n",
      "5    30.0\n",
      "6    27.5\n",
      "7    40.0\n",
      "8    45.0\n",
      "9    50.0\n",
      "dtype: float64\n"
     ]
    }
   ],
   "source": [
    "#Handling missing values\n",
    "\n",
    "#Write a Python code to replace missing values in the Series with the mean value of the Series.\n",
    "import pandas as pd\n",
    "import numpy as np\n",
    "\n",
    "# Create a Series\n",
    "s = pd.Series([5, 10, 15, np.nan, 25, 30, np.nan, 40, 45, 50])\n",
    "\n",
    "# Fill missing values with mean\n",
    "s.fillna(s.mean(), inplace=True)\n",
    "print(s)\n"
   ]
  },
  {
   "cell_type": "code",
   "execution_count": 2,
   "id": "d5beb50b",
   "metadata": {},
   "outputs": [
    {
     "name": "stdout",
     "output_type": "stream",
     "text": [
      "   Name   Age Gender City\n",
      "0  John  25.0      M  NaN\n",
      "1  Jane  30.0      F  NYC\n",
      "2  Mark  30.0      M   LA\n",
      "3  Mary  35.0      F  NaN\n",
      "4  Alex  30.0      M   SF\n"
     ]
    }
   ],
   "source": [
    "#Write a Python code to replace missing values in the \"Age\" column with the median value of the column.\n",
    "import pandas as pd\n",
    "import numpy as np\n",
    "\n",
    "# Create a DataFrame\n",
    "data = {\n",
    "    'Name': ['John', 'Jane', 'Mark', 'Mary', 'Alex'],\n",
    "    'Age': [25, np.nan, 30, 35, np.nan],\n",
    "    'Gender': ['M', 'F', 'M', 'F', 'M'],\n",
    "    'City': [np.nan, 'NYC', 'LA', np.nan, 'SF']\n",
    "}\n",
    "df = pd.DataFrame(data)\n",
    "\n",
    "# Fill missing values with median\n",
    "df['Age'].fillna(df['Age'].median(), inplace=True)\n",
    "print(df)"
   ]
  },
  {
   "cell_type": "code",
   "execution_count": 3,
   "id": "1c39533a",
   "metadata": {},
   "outputs": [
    {
     "name": "stdout",
     "output_type": "stream",
     "text": [
      "   Name   Age Gender     City\n",
      "0  John  25.0      M  Unknown\n",
      "1  Jane   NaN      F      NYC\n",
      "2  Mark  30.0      M       LA\n",
      "3  Mary  35.0      F  Unknown\n",
      "4  Alex   NaN      M       SF\n"
     ]
    }
   ],
   "source": [
    "import pandas as pd\n",
    "\n",
    "# Create a DataFrame\n",
    "data = {\n",
    "    'Name': ['John', 'Jane', 'Mark', 'Mary', 'Alex'],\n",
    "    'Age': [25, None, 30, 35, None],\n",
    "    'Gender': ['M', 'F', 'M', 'F', 'M'],\n",
    "    'City': [None, 'NYC', 'LA', None, 'SF']\n",
    "}\n",
    "df = pd.DataFrame(data)\n",
    "\n",
    "# Fill missing values with \"Unknown\"\n",
    "df['City'].fillna(value='Unknown', inplace=True)\n",
    "print(df)\n"
   ]
  },
  {
   "cell_type": "code",
   "execution_count": 4,
   "id": "8d030f58",
   "metadata": {},
   "outputs": [
    {
     "name": "stdout",
     "output_type": "stream",
     "text": [
      "   Name   Age Gender City\n",
      "2  Mark  30.0      M   LA\n"
     ]
    }
   ],
   "source": [
    "#dropping all rows with missing values\n",
    "import pandas as pd\n",
    "\n",
    "# Create a DataFrame\n",
    "data = {\n",
    "    'Name': ['John', 'Jane', 'Mark', 'Mary', 'Alex'],\n",
    "    'Age': [25, None, 30, 35, None],\n",
    "    'Gender': ['M', 'F', 'M', 'F', 'M'],\n",
    "    'City': [None, 'NYC', 'LA', None, 'SF']\n",
    "}\n",
    "df = pd.DataFrame(data)\n",
    "\n",
    "# Drop rows with missing values\n",
    "df.dropna(inplace=True)\n",
    "print(df)"
   ]
  },
  {
   "cell_type": "code",
   "execution_count": 6,
   "id": "3e6db7d4",
   "metadata": {},
   "outputs": [
    {
     "name": "stdout",
     "output_type": "stream",
     "text": [
      "   Name  Age Gender City\n",
      "0  John   25      M  NYC\n",
      "1  Jane   30      F   LA\n",
      "2  Mark   35      M   SF\n",
      "4  Alex   30      M   LA\n"
     ]
    }
   ],
   "source": [
    "#REMOVING DUPLICATES\n",
    "\n",
    "import pandas as pd\n",
    "\n",
    "# Create a DataFrame\n",
    "data = {\n",
    "    'Name': ['John', 'Jane', 'Mark', 'John', 'Alex'],\n",
    "    'Age': [25, 30, 35, 25, 30],\n",
    "    'Gender': ['M', 'F', 'M', 'M', 'M'],\n",
    "    'City': ['NYC', 'LA', 'SF', 'NYC', 'LA']\n",
    "}\n",
    "df = pd.DataFrame(data)\n",
    "\n",
    "# Drop duplicate rows\n",
    "df.drop_duplicates(inplace=True)\n",
    "print(df)"
   ]
  },
  {
   "cell_type": "code",
   "execution_count": 7,
   "id": "d9c7d211",
   "metadata": {},
   "outputs": [
    {
     "name": "stdout",
     "output_type": "stream",
     "text": [
      "   Name  Age Gender City\n",
      "0  John   25      M  NYC\n",
      "1  Jane   30      F   LA\n",
      "2  Mark   35      M   SF\n",
      "4  Alex   30      M   LA\n"
     ]
    }
   ],
   "source": [
    "import pandas as pd\n",
    "\n",
    "# Create a DataFrame\n",
    "data = {\n",
    "    'Name': ['John', 'Jane', 'Mark', 'John', 'Alex'],\n",
    "    'Age': [25, 30, 35, 25, 30],\n",
    "    'Gender': ['M', 'F', 'M', 'M', 'M'],\n",
    "    'City': ['NYC', 'LA', 'SF', 'NYC', 'LA']\n",
    "}\n",
    "df = pd.DataFrame(data)\n",
    "\n",
    "# Drop duplicate rows based on \"Name\" column\n",
    "df.drop_duplicates(subset='Name', inplace=True)\n",
    "\n",
    "print(df)"
   ]
  },
  {
   "cell_type": "code",
   "execution_count": 8,
   "id": "15fe85b7",
   "metadata": {},
   "outputs": [
    {
     "name": "stdout",
     "output_type": "stream",
     "text": [
      "   Name  Age Gender           City\n",
      "0  John   25      M  New York City\n",
      "1  Jane   30      F             LA\n",
      "2  Mark   35      M             SF\n",
      "3  Mary   40      F  New York City\n",
      "4  Alex   45      M             LA\n"
     ]
    }
   ],
   "source": [
    "#Replacing Values\n",
    "\n",
    "import pandas as pd\n",
    "\n",
    "# Create a DataFrame\n",
    "data = {\n",
    "    'Name': ['John', 'Jane', 'Mark', 'Mary', 'Alex'],\n",
    "    'Age': [25, 30, 35, 40, 45],\n",
    "    'Gender': ['M', 'F', 'M', 'F', 'M'],\n",
    "    'City': ['NYC', 'LA', 'SF', 'NYC', 'LA']\n",
    "}\n",
    "df = pd.DataFrame(data)\n",
    "\n",
    "# Replace \"NYC\" with \"New York City\" in the \"City\" column\n",
    "df['City'].replace('NYC', 'New York City', inplace=True)\n",
    "print(df)"
   ]
  },
  {
   "cell_type": "code",
   "execution_count": 9,
   "id": "2d9919c9",
   "metadata": {},
   "outputs": [
    {
     "name": "stdout",
     "output_type": "stream",
     "text": [
      "   Name  Age  Height (in)\n",
      "0  John   25           70\n",
      "1  Jane   30           65\n",
      "2  Mark   35           68\n",
      "3  Mary   40           75\n",
      "4  Alex   45           62\n",
      "5   Bob   50           80\n",
      "6   Tom   55           58\n",
      "7   Kim   60           72\n",
      "8   Sam   65           85\n",
      "9   Ann   70           55\n"
     ]
    }
   ],
   "source": [
    "#Detecting and Filtering Outliers\n",
    "\n",
    "import pandas as pd\n",
    "import numpy as np\n",
    "\n",
    "# Create a DataFrame\n",
    "data = {\n",
    "    'Name': ['John', 'Jane', 'Mark', 'Mary', 'Alex', 'Bob', 'Tom', 'Kim', 'Sam', 'Ann'],\n",
    "    'Age': [25, 30, 35, 40, 45, 50, 55, 60, 65, 70],\n",
    "    'Height (in)': [70, 65, 68, 75, 62, 80, 58, 72, 85, 55]\n",
    "}\n",
    "df = pd.DataFrame(data)\n",
    "\n",
    "# Detect and filter outliers using z-score\n",
    "df['z_score'] = np.abs((df['Height (in)'] - df['Height (in)'].mean()) / df['Height (in)'].std())\n",
    "df = df[df['z_score'] < 3].drop('z_score', axis=1)\n",
    "print(df)"
   ]
  },
  {
   "cell_type": "code",
   "execution_count": null,
   "id": "bc556a84",
   "metadata": {},
   "outputs": [],
   "source": []
  }
 ],
 "metadata": {
  "kernelspec": {
   "display_name": "Python 3 (ipykernel)",
   "language": "python",
   "name": "python3"
  },
  "language_info": {
   "codemirror_mode": {
    "name": "ipython",
    "version": 3
   },
   "file_extension": ".py",
   "mimetype": "text/x-python",
   "name": "python",
   "nbconvert_exporter": "python",
   "pygments_lexer": "ipython3",
   "version": "3.9.13"
  }
 },
 "nbformat": 4,
 "nbformat_minor": 5
}
