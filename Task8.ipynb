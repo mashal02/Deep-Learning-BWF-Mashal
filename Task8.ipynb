{
 "cells": [
  {
   "cell_type": "code",
   "execution_count": 1,
   "id": "d9d87653",
   "metadata": {},
   "outputs": [
    {
     "name": "stdout",
     "output_type": "stream",
     "text": [
      "Le Cordon Bleu\n",
      "French\n",
      "Le Cordon Bleu serves French cuisine.\n",
      "Le Cordon Bleu is now open!\n"
     ]
    }
   ],
   "source": [
    "\n",
    "#9.1\n",
    "class Restaurant:\n",
    "    def __init__(self, restaurant_name, cuisine_type):\n",
    "        self.restaurant_name = restaurant_name\n",
    "        self.cuisine_type = cuisine_type\n",
    "    \n",
    "    def describe_restaurant(self):\n",
    "        print(f\"{self.restaurant_name} serves {self.cuisine_type} cuisine.\")\n",
    "    \n",
    "    def open_restaurant(self):\n",
    "        print(f\"{self.restaurant_name} is now open!\")\n",
    "    \n",
    "restaurant = Restaurant(\"Le Cordon Bleu\", \"French\")\n",
    "print(restaurant.restaurant_name)\n",
    "print(restaurant.cuisine_type)\n",
    "restaurant.describe_restaurant()\n",
    "restaurant.open_restaurant()\n"
   ]
  },
  {
   "cell_type": "code",
   "execution_count": 2,
   "id": "5d2276b7",
   "metadata": {},
   "outputs": [
    {
     "name": "stdout",
     "output_type": "stream",
     "text": [
      "Le Cordon Bleu serves French cuisine.\n",
      "Gustavo's serves Mexican cuisine.\n",
      "The Great Wall serves Chinese cuisine.\n"
     ]
    }
   ],
   "source": [
    "class Restaurant:\n",
    "    def __init__(self, restaurant_name, cuisine_type):\n",
    "        self.restaurant_name = restaurant_name\n",
    "        self.cuisine_type = cuisine_type\n",
    "    \n",
    "    def describe_restaurant(self):\n",
    "        print(f\"{self.restaurant_name} serves {self.cuisine_type} cuisine.\")\n",
    "    \n",
    "    def open_restaurant(self):\n",
    "        print(f\"{self.restaurant_name} is now open!\")\n",
    "    \n",
    "restaurant1 = Restaurant(\"Le Cordon Bleu\", \"French\")\n",
    "restaurant2 = Restaurant(\"Gustavo's\", \"Mexican\")\n",
    "restaurant3 = Restaurant(\"The Great Wall\", \"Chinese\")\n",
    "\n",
    "restaurant1.describe_restaurant()\n",
    "restaurant2.describe_restaurant()\n",
    "restaurant3.describe_restaurant()\n"
   ]
  },
  {
   "cell_type": "code",
   "execution_count": 3,
   "id": "dda34d87",
   "metadata": {},
   "outputs": [
    {
     "name": "stdout",
     "output_type": "stream",
     "text": [
      "John Doe is 25 years old, works as a Software Developer, and lives in New York.\n",
      "Hello John! Welcome back.\n",
      "Jane Doe is 30 years old, works as a Graphic Designer, and lives in Los Angeles.\n",
      "Hello Jane! Welcome back.\n",
      "Alice Smith is 35 years old, works as a Doctor, and lives in Chicago.\n",
      "Hello Alice! Welcome back.\n"
     ]
    }
   ],
   "source": [
    "#9.3\n",
    "class User:\n",
    "    def __init__(self, first_name, last_name, age, occupation, location):\n",
    "        self.first_name = first_name\n",
    "        self.last_name = last_name\n",
    "        self.age = age\n",
    "        self.occupation = occupation\n",
    "        self.location = location\n",
    "    \n",
    "    def describe_user(self):\n",
    "        print(f\"{self.first_name} {self.last_name} is {self.age} years old, works as a {self.occupation}, and lives in {self.location}.\")\n",
    "    \n",
    "    def greet_user(self):\n",
    "        print(f\"Hello {self.first_name}! Welcome back.\")\n",
    "    \n",
    "user1 = User(\"John\", \"Doe\", 25, \"Software Developer\", \"New York\")\n",
    "user2 = User(\"Jane\", \"Doe\", 30, \"Graphic Designer\", \"Los Angeles\")\n",
    "user3 = User(\"Alice\", \"Smith\", 35, \"Doctor\", \"Chicago\")\n",
    "\n",
    "user1.describe_user()\n",
    "user1.greet_user()\n",
    "\n",
    "user2.describe_user()\n",
    "user2.greet_user()\n",
    "\n",
    "user3.describe_user()\n",
    "user3.greet_user()\n"
   ]
  },
  {
   "cell_type": "code",
   "execution_count": 4,
   "id": "6c1e3ddb",
   "metadata": {},
   "outputs": [
    {
     "name": "stdout",
     "output_type": "stream",
     "text": [
      "The restaurant has served 0 customers.\n",
      "The restaurant has served 10 customers.\n",
      "The restaurant has served 15 customers.\n",
      "The restaurant has served 20 customers.\n"
     ]
    }
   ],
   "source": [
    "#9.4\n",
    "class Restaurant:\n",
    "    def __init__(self, restaurant_name, cuisine_type):\n",
    "        self.restaurant_name = restaurant_name\n",
    "        self.cuisine_type = cuisine_type\n",
    "        self.number_served = 0\n",
    "        \n",
    "    def describe_restaurant(self):\n",
    "        print(f\"{self.restaurant_name} serves {self.cuisine_type} cuisine.\")\n",
    "        \n",
    "    def open_restaurant(self):\n",
    "        print(f\"{self.restaurant_name} is open!\")\n",
    "        \n",
    "    def set_number_served(self, number):\n",
    "        self.number_served = number\n",
    "        \n",
    "    def increment_number_served(self, number):\n",
    "        self.number_served += number\n",
    "\n",
    "restaurant = Restaurant(\"Pizza Palace\", \"Italian\")\n",
    "print(f\"The restaurant has served {restaurant.number_served} customers.\")\n",
    "\n",
    "restaurant.number_served = 10\n",
    "print(f\"The restaurant has served {restaurant.number_served} customers.\")\n",
    "\n",
    "restaurant.set_number_served(15)\n",
    "print(f\"The restaurant has served {restaurant.number_served} customers.\")\n",
    "\n",
    "restaurant.increment_number_served(5)\n",
    "print(f\"The restaurant has served {restaurant.number_served} customers.\")\n"
   ]
  },
  {
   "cell_type": "code",
   "execution_count": 5,
   "id": "272e6d3b",
   "metadata": {},
   "outputs": [
    {
     "name": "stdout",
     "output_type": "stream",
     "text": [
      "Login attempts: 2\n",
      "Login attempts: 0\n"
     ]
    }
   ],
   "source": [
    "#9.5\n",
    "class User:\n",
    "    def __init__(self, first_name, last_name, email, age):\n",
    "        self.first_name = first_name\n",
    "        self.last_name = last_name\n",
    "        self.email = email\n",
    "        self.age = age\n",
    "        self.login_attempts = 0\n",
    "        \n",
    "    def describe_user(self):\n",
    "        print(f\"Name: {self.first_name} {self.last_name}\")\n",
    "        print(f\"Email: {self.email}\")\n",
    "        print(f\"Age: {self.age}\")\n",
    "        \n",
    "    def greet_user(self):\n",
    "        print(f\"Hello, {self.first_name}!\")\n",
    "        \n",
    "    def increment_login_attempts(self):\n",
    "        self.login_attempts += 1\n",
    "        \n",
    "    def reset_login_attempts(self):\n",
    "        self.login_attempts = 0\n",
    "\n",
    "user = User(\"John\", \"Doe\", \"john.doe@email.com\", 30)\n",
    "\n",
    "user.increment_login_attempts()\n",
    "user.increment_login_attempts()\n",
    "print(f\"Login attempts: {user.login_attempts}\")\n",
    "\n",
    "user.reset_login_attempts()\n",
    "print(f\"Login attempts: {user.login_attempts}\")\n"
   ]
  },
  {
   "cell_type": "code",
   "execution_count": 6,
   "id": "3e7df6f1",
   "metadata": {},
   "outputs": [
    {
     "name": "stdout",
     "output_type": "stream",
     "text": [
      "Scoops serves Ice-Cream cuisine.\n",
      "We have the following flavors of ice-cream:\n",
      "- Vanilla\n",
      "- Chocolate\n",
      "- Strawberry\n",
      "- Mint\n",
      "- Black Cherry\n"
     ]
    }
   ],
   "source": [
    "#9.6\n",
    "class Restaurant:\n",
    "    def __init__(self, restaurant_name, cuisine_type):\n",
    "        self.restaurant_name = restaurant_name\n",
    "        self.cuisine_type = cuisine_type\n",
    "        self.number_served = 0\n",
    "\n",
    "    def describe_restaurant(self):\n",
    "        print(f\"{self.restaurant_name} serves {self.cuisine_type} cuisine.\")\n",
    "\n",
    "    def open_restaurant(self):\n",
    "        print(f\"{self.restaurant_name} is open now.\")\n",
    "\n",
    "    def set_number_served(self, number):\n",
    "        self.number_served = number\n",
    "\n",
    "    def increment_number_served(self, number):\n",
    "        self.number_served += number\n",
    "\n",
    "class IceCreamStand(Restaurant):\n",
    "    def __init__(self, restaurant_name, cuisine_type):\n",
    "        super().__init__(restaurant_name, cuisine_type)\n",
    "        self.flavors = [\"vanilla\", \"chocolate\", \"strawberry\", \"mint\", \"black cherry\"]\n",
    "\n",
    "    def display_flavors(self):\n",
    "        print(\"We have the following flavors of ice-cream:\")\n",
    "        for flavor in self.flavors:\n",
    "            print(f\"- {flavor.title()}\")\n",
    "\n",
    "my_ice_cream_stand = IceCreamStand(\"Scoops\", \"Ice-Cream\")\n",
    "my_ice_cream_stand.describe_restaurant()\n",
    "my_ice_cream_stand.display_flavors()\n"
   ]
  },
  {
   "cell_type": "code",
   "execution_count": 7,
   "id": "7bcb7b5d",
   "metadata": {},
   "outputs": [
    {
     "name": "stdout",
     "output_type": "stream",
     "text": [
      "John Doe is 25 years old and has email: johndoe@gmail.com\n",
      "The Admin has following privileges: \n",
      "- Can Add Post\n",
      "- Can Delete Post\n",
      "- Can Ban User\n"
     ]
    }
   ],
   "source": [
    "#9.7\n",
    "class User:\n",
    "    def __init__(self, first_name, last_name, age, email):\n",
    "        self.first_name = first_name\n",
    "        self.last_name = last_name\n",
    "        self.age = age\n",
    "        self.email = email\n",
    "        self.login_attempts = 0\n",
    "\n",
    "    def describe_user(self):\n",
    "        print(f\"{self.first_name} {self.last_name} is {self.age} years old and has email: {self.email}\")\n",
    "\n",
    "    def greet_user(self):\n",
    "        print(f\"Welcome {self.first_name} {self.last_name}!\")\n",
    "\n",
    "class Admin(User):\n",
    "    def __init__(self, first_name, last_name, age, email):\n",
    "        super().__init__(first_name, last_name, age, email)\n",
    "        self.privileges = [\"can add post\", \"can delete post\", \"can ban user\"]\n",
    "\n",
    "    def show_privileges(self):\n",
    "        print(f\"The Admin has following privileges: \")\n",
    "        for privilege in self.privileges:\n",
    "            print(f\"- {privilege.title()}\")\n",
    "\n",
    "my_admin = Admin(\"John\", \"Doe\", 25, \"johndoe@gmail.com\")\n",
    "my_admin.describe_user()\n",
    "my_admin.show_privileges()\n"
   ]
  },
  {
   "cell_type": "code",
   "execution_count": 8,
   "id": "31a23164",
   "metadata": {},
   "outputs": [
    {
     "name": "stdout",
     "output_type": "stream",
     "text": [
      "John Doe is 25 years old and has email: johndoe@gmail.com\n",
      "The Admin has following privileges: \n",
      "- Can Add Post\n",
      "- Can Delete Post\n",
      "- Can Ban User\n"
     ]
    }
   ],
   "source": [
    "#9.8\n",
    "class Privileges:\n",
    "    def __init__(self):\n",
    "        self.privileges = [\"can add post\", \"can delete post\", \"can ban user\"]\n",
    "\n",
    "    def show_privileges(self):\n",
    "        print(f\"The Admin has following privileges: \")\n",
    "        for privilege in self.privileges:\n",
    "            print(f\"- {privilege.title()}\")\n",
    "\n",
    "class Admin(User):\n",
    "    def __init__(self, first_name, last_name, age, email):\n",
    "        super().__init__(first_name, last_name, age, email)\n",
    "        self.privileges = Privileges()\n",
    "\n",
    "my_admin = Admin(\"John\", \"Doe\", 25, \"johndoe@gmail.com\")\n",
    "my_admin.describe_user()\n",
    "my_admin.privileges.show_privileges()\n",
    "\n"
   ]
  },
  {
   "cell_type": "code",
   "execution_count": null,
   "id": "d046addf",
   "metadata": {},
   "outputs": [],
   "source": []
  }
 ],
 "metadata": {
  "kernelspec": {
   "display_name": "Python 3 (ipykernel)",
   "language": "python",
   "name": "python3"
  },
  "language_info": {
   "codemirror_mode": {
    "name": "ipython",
    "version": 3
   },
   "file_extension": ".py",
   "mimetype": "text/x-python",
   "name": "python",
   "nbconvert_exporter": "python",
   "pygments_lexer": "ipython3",
   "version": "3.9.13"
  }
 },
 "nbformat": 4,
 "nbformat_minor": 5
}
