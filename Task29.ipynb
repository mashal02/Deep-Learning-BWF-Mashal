{
 "cells": [
  {
   "cell_type": "code",
   "execution_count": null,
   "id": "5044ab14",
   "metadata": {},
   "outputs": [
    {
     "name": "stdout",
     "output_type": "stream",
     "text": [
      "Downloading data from https://storage.googleapis.com/tensorflow/keras-applications/vgg16/vgg16_weights_tf_dim_ordering_tf_kernels_notop.h5\n",
      "58889256/58889256 [==============================] - 17s 0us/step\n"
     ]
    },
    {
     "name": "stderr",
     "output_type": "stream",
     "text": [
      "WARNING:absl:`lr` is deprecated in Keras optimizer, please use `learning_rate` or use the legacy optimizer, e.g.,tf.keras.optimizers.legacy.Adam.\n"
     ]
    },
    {
     "name": "stdout",
     "output_type": "stream",
     "text": [
      "Epoch 1/10\n",
      "4/4 [==============================] - 16s 3s/step - loss: 2.3271 - accuracy: 0.1100\n",
      "Epoch 2/10\n",
      "4/4 [==============================] - 18s 4s/step - loss: 2.2714 - accuracy: 0.1600\n",
      "Epoch 3/10\n",
      "4/4 [==============================] - 17s 4s/step - loss: 2.2779 - accuracy: 0.1200\n",
      "Epoch 4/10\n",
      "4/4 [==============================] - 17s 4s/step - loss: 2.2854 - accuracy: 0.1500\n",
      "Epoch 5/10\n",
      "4/4 [==============================] - 17s 4s/step - loss: 2.2612 - accuracy: 0.1600\n",
      "Epoch 6/10\n",
      "4/4 [==============================] - 17s 4s/step - loss: 2.2507 - accuracy: 0.1600\n",
      "Epoch 7/10\n",
      "4/4 [==============================] - 17s 4s/step - loss: 2.2672 - accuracy: 0.1600\n",
      "Epoch 8/10\n",
      "4/4 [==============================] - 17s 4s/step - loss: 2.2746 - accuracy: 0.1600\n",
      "Epoch 9/10\n",
      "4/4 [==============================] - 17s 4s/step - loss: 2.2758 - accuracy: 0.1600\n",
      "Epoch 10/10\n",
      "4/4 [==============================] - 17s 4s/step - loss: 2.2693 - accuracy: 0.1600\n"
     ]
    },
    {
     "name": "stderr",
     "output_type": "stream",
     "text": [
      "WARNING:absl:`lr` is deprecated in Keras optimizer, please use `learning_rate` or use the legacy optimizer, e.g.,tf.keras.optimizers.legacy.Adam.\n"
     ]
    },
    {
     "name": "stdout",
     "output_type": "stream",
     "text": [
      "Epoch 1/10\n",
      "4/4 [==============================] - 73s 15s/step - loss: 26.9849 - accuracy: 0.1600\n",
      "Epoch 2/10\n",
      "4/4 [==============================] - 62s 14s/step - loss: 2.7346 - accuracy: 0.1300\n",
      "Epoch 3/10\n",
      "4/4 [==============================] - 62s 14s/step - loss: 2.3197 - accuracy: 0.1500\n",
      "Epoch 4/10\n",
      "4/4 [==============================] - 71s 16s/step - loss: 2.2927 - accuracy: 0.1600\n",
      "Epoch 5/10\n",
      "4/4 [==============================] - 64s 14s/step - loss: 2.2932 - accuracy: 0.1600\n",
      "Epoch 6/10\n",
      "4/4 [==============================] - 69s 15s/step - loss: 2.2728 - accuracy: 0.1400\n",
      "Epoch 7/10\n",
      "4/4 [==============================] - 66s 15s/step - loss: 2.2757 - accuracy: 0.1600\n",
      "Epoch 8/10\n",
      "4/4 [==============================] - 68s 15s/step - loss: 2.3120 - accuracy: 0.1200\n",
      "Epoch 9/10\n",
      "4/4 [==============================] - 72s 16s/step - loss: 2.2958 - accuracy: 0.1500\n",
      "Epoch 10/10\n"
     ]
    }
   ],
   "source": [
    "import tensorflow as tf\n",
    "from tensorflow.keras.applications import VGG16\n",
    "from tensorflow.keras.preprocessing import image\n",
    "from tensorflow.keras.models import Model\n",
    "from tensorflow.keras.layers import Dense, GlobalAveragePooling2D\n",
    "from tensorflow.keras.optimizers import Adam\n",
    "import numpy as np\n",
    "\n",
    "# Generate sample data\n",
    "input_shape = (224, 224, 3)\n",
    "num_classes = 10\n",
    "train_data = np.random.rand(100, *input_shape)\n",
    "train_labels = np.random.randint(num_classes, size=(100,))\n",
    "test_data = np.random.rand(20, *input_shape)\n",
    "test_labels = np.random.randint(num_classes, size=(20,))\n",
    "\n",
    "# Load the pre-trained model\n",
    "base_model = VGG16(weights='imagenet', include_top=False, input_shape=input_shape)\n",
    "\n",
    "# Freeze the layers in the base model\n",
    "for layer in base_model.layers:\n",
    "    layer.trainable = False\n",
    "\n",
    "# Add your own classification layers on top of the base model\n",
    "x = base_model.output\n",
    "x = GlobalAveragePooling2D()(x)\n",
    "x = Dense(256, activation='relu')(x)\n",
    "predictions = Dense(num_classes, activation='softmax')(x)\n",
    "\n",
    "# Create the final model\n",
    "model = Model(inputs=base_model.input, outputs=predictions)\n",
    "\n",
    "# Compile the model\n",
    "model.compile(optimizer=Adam(lr=0.001), loss='sparse_categorical_crossentropy', metrics=['accuracy'])\n",
    "\n",
    "# Train the model\n",
    "model.fit(train_data, train_labels, epochs=10, batch_size=32)\n",
    "\n",
    "# Fine-tune the model\n",
    "for layer in base_model.layers:\n",
    "    layer.trainable = True\n",
    "\n",
    "# Re-compile the model for fine-tuning\n",
    "model.compile(optimizer=Adam(lr=0.0001), loss='sparse_categorical_crossentropy', metrics=['accuracy'])\n",
    "\n",
    "# Continue training the model\n",
    "model.fit(train_data, train_labels, epochs=10, batch_size=32)\n",
    "\n",
    "# Evaluate the model\n",
    "test_loss, test_accuracy = model.evaluate(test_data, test_labels)\n",
    "print('Test Loss:', test_loss)\n",
    "print('Test Accuracy:', test_accuracy)\n"
   ]
  },
  {
   "cell_type": "code",
   "execution_count": null,
   "id": "93253829",
   "metadata": {},
   "outputs": [],
   "source": []
  }
 ],
 "metadata": {
  "kernelspec": {
   "display_name": "Python 3 (ipykernel)",
   "language": "python",
   "name": "python3"
  },
  "language_info": {
   "codemirror_mode": {
    "name": "ipython",
    "version": 3
   },
   "file_extension": ".py",
   "mimetype": "text/x-python",
   "name": "python",
   "nbconvert_exporter": "python",
   "pygments_lexer": "ipython3",
   "version": "3.9.13"
  }
 },
 "nbformat": 4,
 "nbformat_minor": 5
}
