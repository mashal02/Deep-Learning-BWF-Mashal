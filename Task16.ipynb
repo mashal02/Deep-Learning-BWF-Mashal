{
 "cells": [
  {
   "cell_type": "code",
   "execution_count": 1,
   "id": "ddfaf909",
   "metadata": {},
   "outputs": [
    {
     "name": "stdout",
     "output_type": "stream",
     "text": [
      "  key  value_x  value_y\n",
      "0   B        2        5\n",
      "1   D        4        6\n"
     ]
    }
   ],
   "source": [
    "import pandas as pd\n",
    "\n",
    "# create the two datasets\n",
    "df1 = pd.DataFrame({'key': ['A', 'B', 'C', 'D'],\n",
    "                   'value': [1, 2, 3, 4]})\n",
    "df2 = pd.DataFrame({'key': ['B', 'D', 'E', 'F'],\n",
    "                   'value': [5, 6, 7, 8]})\n",
    "\n",
    "# merge the two datasets based on the common column\n",
    "merged_df = pd.merge(df1, df2, on='key')\n",
    "\n",
    "# print the merged dataset\n",
    "print(merged_df)\n"
   ]
  },
  {
   "cell_type": "code",
   "execution_count": 2,
   "id": "4826eef4",
   "metadata": {},
   "outputs": [
    {
     "name": "stdout",
     "output_type": "stream",
     "text": [
      "  key  value1 id  value2\n",
      "0   B       2  B       5\n",
      "1   D       4  D       6\n"
     ]
    }
   ],
   "source": [
    "import pandas as pd\n",
    "\n",
    "# create the two datasets\n",
    "df1 = pd.DataFrame({'key': ['A', 'B', 'C', 'D'],\n",
    "                   'value1': [1, 2, 3, 4]})\n",
    "df2 = pd.DataFrame({'id': ['B', 'D', 'E', 'F'],\n",
    "                   'value2': [5, 6, 7, 8]})\n",
    "\n",
    "# merge the two datasets based on the similar data\n",
    "merged_df = pd.merge(df1, df2, left_on='key', right_on='id')\n",
    "\n",
    "# print the merged dataset\n",
    "print(merged_df)\n"
   ]
  },
  {
   "cell_type": "code",
   "execution_count": 3,
   "id": "e0e2c700",
   "metadata": {},
   "outputs": [
    {
     "name": "stdout",
     "output_type": "stream",
     "text": [
      "  key  value\n",
      "0   A      1\n",
      "1   B      2\n",
      "2   C      3\n",
      "3   D      4\n",
      "0   E      5\n",
      "1   F      6\n",
      "2   G      7\n",
      "3   H      8\n"
     ]
    }
   ],
   "source": [
    "#Concatenate two datasets vertically:\n",
    "import pandas as pd\n",
    "\n",
    "# create the two datasets\n",
    "df1 = pd.DataFrame({'key': ['A', 'B', 'C', 'D'],\n",
    "                   'value': [1, 2, 3, 4]})\n",
    "df2 = pd.DataFrame({'key': ['E', 'F', 'G', 'H'],\n",
    "                   'value': [5, 6, 7, 8]})\n",
    "\n",
    "# concatenate the two datasets vertically\n",
    "concatenated_df = pd.concat([df1, df2], axis=0)\n",
    "\n",
    "# print the concatenated dataset\n",
    "print(concatenated_df)\n"
   ]
  },
  {
   "cell_type": "code",
   "execution_count": 4,
   "id": "b1d724d3",
   "metadata": {},
   "outputs": [
    {
     "name": "stdout",
     "output_type": "stream",
     "text": [
      "  key1 key2  value_x  value_y\n",
      "0    B    F        2        5\n",
      "1    D    H        4        6\n"
     ]
    }
   ],
   "source": [
    "#Merge two dataframes by multiple common columns:\n",
    "import pandas as pd\n",
    "\n",
    "df1 = pd.DataFrame({'key1': ['A', 'B', 'C', 'D'],\n",
    "                    'key2': ['E', 'F', 'G', 'H'],\n",
    "                    'value': [1, 2, 3, 4]})\n",
    "df2 = pd.DataFrame({'key1': ['B', 'D', 'E', 'F'],\n",
    "                    'key2': ['F', 'H', 'I', 'J'],\n",
    "                    'value': [5, 6, 7, 8]})\n",
    "\n",
    "merged_df = pd.merge(df1, df2, on=['key1', 'key2'], how='inner')\n",
    "\n",
    "print(merged_df)\n"
   ]
  },
  {
   "cell_type": "code",
   "execution_count": 7,
   "id": "adca2a58",
   "metadata": {},
   "outputs": [
    {
     "name": "stdout",
     "output_type": "stream",
     "text": [
      "  key1  value1 key2  value2\n",
      "0    B       2    B       5\n",
      "1    D       4    D       6\n"
     ]
    }
   ],
   "source": [
    "\n",
    "import pandas as pd\n",
    "\n",
    "df1 = pd.DataFrame({'key1': ['A', 'B', 'C', 'D'],\n",
    "                    'value1': [1, 2, 3, 4]})\n",
    "df2 = pd.DataFrame({'key2': ['B', 'D', 'E', 'F'],\n",
    "                    'value2': [5, 6, 7, 8]})\n",
    "\n",
    "merged_df = pd.merge(df1, df2, left_on='key1', right_on='key2', how='inner')\n",
    "\n",
    "print(merged_df)\n"
   ]
  },
  {
   "cell_type": "code",
   "execution_count": 8,
   "id": "05220004",
   "metadata": {},
   "outputs": [
    {
     "name": "stdout",
     "output_type": "stream",
     "text": [
      "      A    B    C    D    F\n",
      "0    A0   B0   C0   D0  NaN\n",
      "1    A1   B1   C1   D1  NaN\n",
      "2    A2   B2   C2   D2   F2\n",
      "3    A3   B3   C3   D3   F3\n",
      "4    A4   B4   C4   D4  NaN\n",
      "5    A5   B5   C5   D5  NaN\n",
      "6    A6   B6   C6   D6   F6\n",
      "7    A7   B7   C7   D7   F7\n",
      "8    A8   B8   C8   D8  NaN\n",
      "9    A9   B9   C9   D9  NaN\n",
      "10  A10  B10  C10  D10  NaN\n",
      "11  A11  B11  C11  D11  NaN\n"
     ]
    }
   ],
   "source": [
    "import pandas as pd\n",
    "\n",
    "# create sample data\n",
    "df1 = pd.DataFrame({'A': ['A0', 'A1', 'A2', 'A3'],\n",
    "                    'B': ['B0', 'B1', 'B2', 'B3'],\n",
    "                    'C': ['C0', 'C1', 'C2', 'C3'],\n",
    "                    'D': ['D0', 'D1', 'D2', 'D3']},\n",
    "                   index=[0, 1, 2, 3])\n",
    "df2 = pd.DataFrame({'A': ['A4', 'A5', 'A6', 'A7'],\n",
    "                    'B': ['B4', 'B5', 'B6', 'B7'],\n",
    "                    'C': ['C4', 'C5', 'C6', 'C7'],\n",
    "                    'D': ['D4', 'D5', 'D6', 'D7']},\n",
    "                   index=[4, 5, 6, 7])\n",
    "df3 = pd.DataFrame({'A': ['A8', 'A9', 'A10', 'A11'],\n",
    "                    'B': ['B8', 'B9', 'B10', 'B11'],\n",
    "                    'C': ['C8', 'C9', 'C10', 'C11'],\n",
    "                    'D': ['D8', 'D9', 'D10', 'D11']},\n",
    "                   index=[8, 9, 10, 11])\n",
    "df4 = pd.DataFrame({'B': ['B2', 'B3', 'B6', 'B7'],\n",
    "                    'D': ['D2', 'D3', 'D6', 'D7'],\n",
    "                    'F': ['F2', 'F3', 'F6', 'F7']},\n",
    "                   index=[2, 3, 6, 7])\n",
    "\n",
    "# concatenate dataframes along rows\n",
    "result = pd.concat([df1, df2, df3])\n",
    "\n",
    "# merge result dataframe with df4 on 'B' and 'D' columns\n",
    "merged = pd.merge(result, df4, on=['B', 'D'], how='outer')\n",
    "\n",
    "print(merged)\n"
   ]
  },
  {
   "cell_type": "code",
   "execution_count": 9,
   "id": "7449ad38",
   "metadata": {},
   "outputs": [
    {
     "name": "stdout",
     "output_type": "stream",
     "text": [
      "Wide format data frame:\n",
      "  id  year1  year2  year3\n",
      "0  A     10     15     20\n",
      "1  B     20     25     30\n",
      "2  C     30     35     40\n",
      "\n",
      "Long format data frame:\n",
      "  id   year  value\n",
      "0  A  year1     10\n",
      "1  B  year1     20\n",
      "2  C  year1     30\n",
      "3  A  year2     15\n",
      "4  B  year2     25\n",
      "5  C  year2     35\n",
      "6  A  year3     20\n",
      "7  B  year3     30\n",
      "8  C  year3     40\n"
     ]
    }
   ],
   "source": [
    "import pandas as pd\n",
    "\n",
    "# create wide format data frame\n",
    "data = {'id': ['A', 'B', 'C'],\n",
    "        'year1': [10, 20, 30],\n",
    "        'year2': [15, 25, 35],\n",
    "        'year3': [20, 30, 40]}\n",
    "\n",
    "df = pd.DataFrame(data)\n",
    "print('Wide format data frame:')\n",
    "print(df)\n",
    "\n",
    "# reshape data from wide to long format\n",
    "df_long = pd.melt(df, id_vars=['id'], var_name='year', value_name='value')\n",
    "print('\\nLong format data frame:')\n",
    "print(df_long)\n"
   ]
  },
  {
   "cell_type": "code",
   "execution_count": 10,
   "id": "51e3b2b9",
   "metadata": {},
   "outputs": [
    {
     "name": "stdout",
     "output_type": "stream",
     "text": [
      "Long format data frame:\n",
      "  id   year  value\n",
      "0  A  year1     10\n",
      "1  A  year2     20\n",
      "2  B  year1     30\n",
      "3  B  year2     40\n",
      "4  C  year1     50\n",
      "5  C  year2     60\n",
      "\n",
      "Wide format data frame:\n",
      "  id  year1  year2\n",
      "0  A     10     20\n",
      "1  B     30     40\n",
      "2  C     50     60\n"
     ]
    }
   ],
   "source": [
    "import pandas as pd\n",
    "\n",
    "# create long format data frame\n",
    "data = {'id': ['A', 'A', 'B', 'B', 'C', 'C'],\n",
    "        'year': ['year1', 'year2', 'year1', 'year2', 'year1', 'year2'],\n",
    "        'value': [10, 20, 30, 40, 50, 60]}\n",
    "\n",
    "df = pd.DataFrame(data)\n",
    "print('Long format data frame:')\n",
    "print(df)\n",
    "\n",
    "# reshape data from long to wide format\n",
    "df_wide = df.pivot(index='id', columns='year', values='value').reset_index()\n",
    "df_wide.columns.name = None\n",
    "print('\\nWide format data frame:')\n",
    "print(df_wide)\n"
   ]
  },
  {
   "cell_type": "code",
   "execution_count": null,
   "id": "61f47569",
   "metadata": {},
   "outputs": [],
   "source": []
  }
 ],
 "metadata": {
  "kernelspec": {
   "display_name": "Python 3 (ipykernel)",
   "language": "python",
   "name": "python3"
  },
  "language_info": {
   "codemirror_mode": {
    "name": "ipython",
    "version": 3
   },
   "file_extension": ".py",
   "mimetype": "text/x-python",
   "name": "python",
   "nbconvert_exporter": "python",
   "pygments_lexer": "ipython3",
   "version": "3.9.13"
  }
 },
 "nbformat": 4,
 "nbformat_minor": 5
}
