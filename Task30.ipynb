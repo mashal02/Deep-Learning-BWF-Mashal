{
 "cells": [
  {
   "cell_type": "code",
   "execution_count": null,
   "id": "d3cfe040",
   "metadata": {},
   "outputs": [],
   "source": [
    "import tensorflow as tf\n",
    "from tensorflow.keras.models import Sequential\n",
    "from tensorflow.keras.layers import LSTM, GRU, Dense\n",
    "\n",
    "# Define the model architecture with LSTM\n",
    "model_lstm = Sequential()\n",
    "model_lstm.add(LSTM(64, input_shape=(timesteps, input_dim)))\n",
    "model_lstm.add(Dense(num_classes, activation='softmax'))\n",
    "\n",
    "# Define the model architecture with GRU\n",
    "model_gru = Sequential()\n",
    "model_gru.add(GRU(64, input_shape=(timesteps, input_dim)))\n",
    "model_gru.add(Dense(num_classes, activation='softmax'))\n",
    "\n",
    "# Compile the models\n",
    "model_lstm.compile(loss='categorical_crossentropy', optimizer='adam', metrics=['accuracy'])\n",
    "model_gru.compile(loss='categorical_crossentropy', optimizer='adam', metrics=['accuracy'])\n",
    "\n",
    "# Train the models\n",
    "model_lstm.fit(train_data, train_labels, epochs=10, batch_size=32)\n",
    "model_gru.fit(train_data, train_labels, epochs=10, batch_size=32)\n",
    "\n",
    "# Evaluate the models\n",
    "test_loss_lstm, test_accuracy_lstm = model_lstm.evaluate(test_data, test_labels)\n",
    "test_loss_gru, test_accuracy_gru = model_gru.evaluate(test_data, test_labels)\n",
    "\n",
    "print('LSTM Test Loss:', test_loss_lstm)\n",
    "print('LSTM Test Accuracy:', test_accuracy_lstm)\n",
    "print('GRU Test Loss:', test_loss_gru)\n",
    "print('GRU Test Accuracy:', test_accuracy_gru)\n"
   ]
  }
 ],
 "metadata": {
  "kernelspec": {
   "display_name": "Python 3 (ipykernel)",
   "language": "python",
   "name": "python3"
  },
  "language_info": {
   "codemirror_mode": {
    "name": "ipython",
    "version": 3
   },
   "file_extension": ".py",
   "mimetype": "text/x-python",
   "name": "python",
   "nbconvert_exporter": "python",
   "pygments_lexer": "ipython3",
   "version": "3.9.13"
  }
 },
 "nbformat": 4,
 "nbformat_minor": 5
}
