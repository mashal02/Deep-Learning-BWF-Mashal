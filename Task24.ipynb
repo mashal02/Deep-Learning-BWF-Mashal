{
 "cells": [
  {
   "cell_type": "markdown",
   "id": "00a50dd2",
   "metadata": {},
   "source": [
    "## Data Preprocessing\n",
    "Data preprocessing is the process of cleaning, transforming, and preparing data before it is used for modeling. The quality of the data has a major impact on the accuracy of the model. Here are some common data preprocessing steps:\n",
    "\n",
    "### Data Cleaning: \n",
    "This involves handling missing values, dealing with outliers, and handling duplicates in the data.\n",
    "### Data Transformation: \n",
    "This involves transforming the data into a more suitable format, such as converting categorical data to numerical data.\n",
    "###  Data Scaling: \n",
    "This involves scaling the data to a similar range to prevent features with larger values from dominating the model.\n",
    "### Feature Selection: \n",
    "This involves selecting only the most important features to include in the model, to avoid overfitting.\n",
    "### Feature Engineering\n",
    "Feature engineering involves creating new features from existing data to improve the performance of the model. Here are some common techniques used in feature engineering:\n",
    "\n",
    "## Feature Extraction: \n",
    "This involves extracting relevant information from the data, such as extracting text features from a document.\n",
    "### Feature Transformation: \n",
    "This involves transforming the features to make them more suitable for the model, such as transforming skewed data to a normal distribution.\n",
    "### Feature Scaling: \n",
    "This involves scaling the features to a similar range, such as scaling age and income features to a similar range.\n",
    "### Feature Construction: \n",
    "This involves creating new features from existing features, such as creating an interaction feature between two features.\n",
    "Deep learning models have the ability to automatically learn complex features from raw data, which can reduce the need for manual feature engineering. However, in some cases, feature engineering can still improve the performance of the model.\n"
   ]
  },
  {
   "cell_type": "code",
   "execution_count": null,
   "id": "55df99dc",
   "metadata": {},
   "outputs": [],
   "source": []
  }
 ],
 "metadata": {
  "kernelspec": {
   "display_name": "Python 3 (ipykernel)",
   "language": "python",
   "name": "python3"
  },
  "language_info": {
   "codemirror_mode": {
    "name": "ipython",
    "version": 3
   },
   "file_extension": ".py",
   "mimetype": "text/x-python",
   "name": "python",
   "nbconvert_exporter": "python",
   "pygments_lexer": "ipython3",
   "version": "3.9.13"
  }
 },
 "nbformat": 4,
 "nbformat_minor": 5
}
