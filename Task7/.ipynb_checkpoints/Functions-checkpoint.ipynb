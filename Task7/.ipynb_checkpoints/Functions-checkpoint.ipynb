{
 "cells": [
  {
   "cell_type": "code",
   "execution_count": 1,
   "id": "7696ca73",
   "metadata": {},
   "outputs": [
    {
     "name": "stdout",
     "output_type": "stream",
     "text": [
      "In this chapter, we are learning about functions in Python.\n"
     ]
    }
   ],
   "source": [
    "#8.1\n",
    "def display_message():\n",
    "    print(\"In this chapter, we are learning about functions in Python.\")\n",
    "\n",
    "display_message()  # calling the function to display the message\n",
    "\n"
   ]
  },
  {
   "cell_type": "code",
   "execution_count": 2,
   "id": "8923e920",
   "metadata": {},
   "outputs": [
    {
     "name": "stdout",
     "output_type": "stream",
     "text": [
      "One of my favorite books is Alice in Wonderland.\n"
     ]
    }
   ],
   "source": [
    "#8.2\n",
    "def favorite_book(title):\n",
    "    print(f\"One of my favorite books is {title}.\")\n",
    "\n",
    "favorite_book(\"Alice in Wonderland\")  # calling the function with a book title\n",
    "\n"
   ]
  },
  {
   "cell_type": "code",
   "execution_count": 3,
   "id": "9d8a578c",
   "metadata": {},
   "outputs": [
    {
     "name": "stdout",
     "output_type": "stream",
     "text": [
      "The shirt size is L and the message printed on it is: I love Python.\n",
      "The shirt size is M and the message printed on it is: Python is awesome.\n"
     ]
    }
   ],
   "source": [
    "#8.3\n",
    "def make_shirt(size, message):\n",
    "    print(f\"The shirt size is {size} and the message printed on it is: {message}.\")\n",
    "\n",
    "# Calling the function using positional arguments\n",
    "make_shirt(\"L\", \"I love Python\")\n",
    "\n",
    "# Calling the function using keyword arguments\n",
    "make_shirt(size=\"M\", message=\"Python is awesome\")\n"
   ]
  },
  {
   "cell_type": "code",
   "execution_count": 4,
   "id": "5fd8da5d",
   "metadata": {},
   "outputs": [
    {
     "name": "stdout",
     "output_type": "stream",
     "text": [
      "The shirt size is L and the message printed on it is: I love Python.\n",
      "The shirt size is M and the message printed on it is: I love Python.\n",
      "The shirt size is S and the message printed on it is: Python is my favorite language.\n"
     ]
    }
   ],
   "source": [
    "#8.4\n",
    "def make_shirt(size=\"L\", message=\"I love Python\"):\n",
    "    print(f\"The shirt size is {size} and the message printed on it is: {message}.\")\n",
    "\n",
    "# Making a large shirt with the default message\n",
    "make_shirt()\n",
    "\n",
    "# Making a medium shirt with the default message\n",
    "make_shirt(\"M\")\n",
    "\n",
    "# Making a custom-sized shirt with a custom message\n",
    "make_shirt(\"S\", \"Python is my favorite language\")\n"
   ]
  },
  {
   "cell_type": "code",
   "execution_count": 5,
   "id": "0cc3504a",
   "metadata": {},
   "outputs": [
    {
     "name": "stdout",
     "output_type": "stream",
     "text": [
      "New York City is in USA.\n",
      "Toronto is in Canada.\n",
      "Sydney is in Unknown.\n"
     ]
    }
   ],
   "source": [
    "#8.5\n",
    "def describe_city(city, country=\"Unknown\"):\n",
    "    print(f\"{city} is in {country}.\")\n",
    "\n",
    "# Calling the function for three different cities\n",
    "describe_city(\"New York City\", \"USA\")\n",
    "describe_city(\"Toronto\", \"Canada\")\n",
    "describe_city(\"Sydney\")  # Using the default country value\n"
   ]
  },
  {
   "cell_type": "code",
   "execution_count": 7,
   "id": "a2940b0f",
   "metadata": {},
   "outputs": [
    {
     "name": "stdout",
     "output_type": "stream",
     "text": [
      "Santiago, Chile\n",
      "Paris, France\n",
      "Sydney, Australia\n"
     ]
    }
   ],
   "source": [
    "#8-6 City Names\n",
    "\n",
    "def city_country(city, country):\n",
    "    return f\"{city}, {country}\"\n",
    "\n",
    "print(city_country('Santiago', 'Chile'))\n",
    "print(city_country('Paris', 'France'))\n",
    "print(city_country('Sydney', 'Australia'))\n"
   ]
  },
  {
   "cell_type": "code",
   "execution_count": 9,
   "id": "32a3f4ed",
   "metadata": {},
   "outputs": [
    {
     "name": "stdout",
     "output_type": "stream",
     "text": [
      "{'artist': 'Eminem', 'title': 'Music to Be Murdered By'}\n",
      "{'artist': 'Post Malone', 'title': 'Hollywood’s Bleeding'}\n",
      "{'artist': 'Kendrick Lamar', 'title': 'DAMN.', 'tracks': 14}\n"
     ]
    }
   ],
   "source": [
    "#8-7 Album\n",
    "\n",
    "def make_album(artist_name, album_title, num_tracks=None):\n",
    "    album_dict = {'artist': artist_name, 'title': album_title}\n",
    "    if num_tracks:\n",
    "        album_dict['tracks'] = num_tracks\n",
    "    return album_dict\n",
    "\n",
    "album1 = make_album('Eminem', 'Music to Be Murdered By')\n",
    "album2 = make_album('Post Malone', 'Hollywood’s Bleeding')\n",
    "album3 = make_album('Kendrick Lamar', 'DAMN.', 14)\n",
    "\n",
    "print(album1)\n",
    "print(album2)\n",
    "print(album3)"
   ]
  },
  {
   "cell_type": "code",
   "execution_count": 14,
   "id": "da305267",
   "metadata": {},
   "outputs": [
    {
     "name": "stdout",
     "output_type": "stream",
     "text": [
      "\n",
      "Enter the details of an album or 'q' to quit.\n",
      "Enter the artist name: Taylor Swift\n",
      "Enter the album title: Evermore\n",
      "Enter the number of tracks (optional): \n",
      "{'artist': 'Taylor Swift', 'title': 'Evermore'}\n",
      "\n",
      "Enter the details of an album or 'q' to quit.\n",
      "Enter the artist name: q\n"
     ]
    }
   ],
   "source": [
    "#8-8 User Albums\n",
    "\n",
    "while True:\n",
    "    print(\"\\nEnter the details of an album or 'q' to quit.\")\n",
    "    artist_name = input(\"Enter the artist name: \")\n",
    "    if artist_name == 'q':\n",
    "        break\n",
    "    album_title = input(\"Enter the album title: \")\n",
    "    if album_title == 'q':\n",
    "        break\n",
    "    num_tracks = input(\"Enter the number of tracks (optional): \")\n",
    "    if num_tracks == 'q':\n",
    "        break\n",
    "    if num_tracks:\n",
    "        album = make_album(artist_name, album_title, num_tracks)\n",
    "    else:\n",
    "        album = make_album(artist_name, album_title)\n",
    "    print(album)"
   ]
  },
  {
   "cell_type": "code",
   "execution_count": 15,
   "id": "fcc06a71",
   "metadata": {},
   "outputs": [
    {
     "name": "stdout",
     "output_type": "stream",
     "text": [
      "Harry Houdini\n",
      "David Copperfield\n",
      "David Blaine\n",
      "Penn Jillette\n",
      "Teller\n"
     ]
    }
   ],
   "source": [
    "#8.9\n",
    "def show_magicians(magicians):\n",
    "    for magician in magicians:\n",
    "        print(magician)\n",
    "        \n",
    "magicians = ['Harry Houdini', 'David Copperfield', 'David Blaine', 'Penn Jillette', 'Teller']\n",
    "\n",
    "show_magicians(magicians)\n"
   ]
  },
  {
   "cell_type": "code",
   "execution_count": 16,
   "id": "f14400b8",
   "metadata": {},
   "outputs": [
    {
     "name": "stdout",
     "output_type": "stream",
     "text": [
      "Harry Houdini\n",
      "David Copperfield\n",
      "David Blaine\n",
      "Penn Jillette\n",
      "Teller\n",
      "\n",
      "\n",
      "The Great Teller\n",
      "The Great Penn Jillette\n",
      "The Great David Blaine\n",
      "The Great David Copperfield\n",
      "The Great Harry Houdini\n"
     ]
    }
   ],
   "source": [
    "#8.10\n",
    "def make_great(magicians):\n",
    "    great_magicians = []\n",
    "    while magicians:\n",
    "        magician = magicians.pop()\n",
    "        great_magician = f\"The Great {magician}\"\n",
    "        great_magicians.append(great_magician)\n",
    "        \n",
    "    for great_magician in great_magicians:\n",
    "        magicians.append(great_magician)\n",
    "        \n",
    "    return magicians\n",
    "\n",
    "magicians = ['Harry Houdini', 'David Copperfield', 'David Blaine', 'Penn Jillette', 'Teller']\n",
    "\n",
    "show_magicians(magicians)\n",
    "print(\"\\n\")\n",
    "\n",
    "make_great(magicians)\n",
    "show_magicians(magicians)\n"
   ]
  },
  {
   "cell_type": "code",
   "execution_count": 17,
   "id": "f07a2dc8",
   "metadata": {},
   "outputs": [
    {
     "name": "stdout",
     "output_type": "stream",
     "text": [
      "Harry Houdini\n",
      "David Copperfield\n",
      "David Blaine\n",
      "Penn Jillette\n",
      "Teller\n",
      "\n",
      "\n",
      "The Great Teller\n",
      "The Great Penn Jillette\n",
      "The Great David Blaine\n",
      "The Great David Copperfield\n",
      "The Great Harry Houdini\n"
     ]
    }
   ],
   "source": [
    "#8.11\n",
    "def make_great(magicians):\n",
    "    great_magicians = []\n",
    "    while magicians:\n",
    "        magician = magicians.pop()\n",
    "        great_magician = f\"The Great {magician}\"\n",
    "        great_magicians.append(great_magician)\n",
    "        \n",
    "    for great_magician in great_magicians:\n",
    "        magicians.append(great_magician)\n",
    "        \n",
    "    return magicians\n",
    "\n",
    "magicians = ['Harry Houdini', 'David Copperfield', 'David Blaine', 'Penn Jillette', 'Teller']\n",
    "great_magicians = make_great(magicians[:])\n",
    "\n",
    "show_magicians(magicians)\n",
    "print(\"\\n\")\n",
    "show_magicians(great_magicians)\n"
   ]
  },
  {
   "cell_type": "code",
   "execution_count": 18,
   "id": "b491f82a",
   "metadata": {},
   "outputs": [
    {
     "name": "stdout",
     "output_type": "stream",
     "text": [
      "Making a sandwich with the following items:\n",
      "- turkey\n",
      "- lettuce\n",
      "- tomato\n",
      "Making a sandwich with the following items:\n",
      "- peanut butter\n",
      "- jelly\n",
      "Making a sandwich with the following items:\n",
      "- bacon\n",
      "- egg\n",
      "- cheese\n",
      "- mayo\n"
     ]
    }
   ],
   "source": [
    "#8.12\n",
    "def make_sandwich(*items):\n",
    "    print(\"Making a sandwich with the following items:\")\n",
    "    for item in items:\n",
    "        print(\"- \" + item)\n",
    "\n",
    "make_sandwich('turkey', 'lettuce', 'tomato')\n",
    "make_sandwich('peanut butter', 'jelly')\n",
    "make_sandwich('bacon', 'egg', 'cheese', 'mayo')\n",
    "\n"
   ]
  },
  {
   "cell_type": "code",
   "execution_count": 19,
   "id": "ceb097bd",
   "metadata": {},
   "outputs": [
    {
     "name": "stdout",
     "output_type": "stream",
     "text": [
      "{'first_name': 'John', 'last_name': 'Doe', 'location': 'USA', 'field': 'Programming', 'age': 35}\n"
     ]
    }
   ],
   "source": [
    "#8.13\n",
    "def build_profile(first, last, **user_info):\n",
    "    \"\"\"Build a dictionary containing everything we know about a user.\"\"\"\n",
    "    profile = {}\n",
    "    profile['first_name'] = first\n",
    "    profile['last_name'] = last\n",
    "    for key, value in user_info.items():\n",
    "        profile[key] = value\n",
    "    return profile\n",
    "\n",
    "user_profile = build_profile('John', 'Doe', location='USA', field='Programming', age=35)\n",
    "print(user_profile)\n"
   ]
  },
  {
   "cell_type": "code",
   "execution_count": 20,
   "id": "07ac649a",
   "metadata": {},
   "outputs": [
    {
     "name": "stdout",
     "output_type": "stream",
     "text": [
      "{'manufacturer': 'subaru', 'model': 'outback', 'color': 'blue', 'tow_package': True}\n"
     ]
    }
   ],
   "source": [
    "def make_car(manufacturer, model, **car_info):\n",
    "    \"\"\"Make a dictionary representing a car.\"\"\"\n",
    "    car = {}\n",
    "    car['manufacturer'] = manufacturer\n",
    "    car['model'] = model\n",
    "    for key, value in car_info.items():\n",
    "        car[key] = value\n",
    "    return car\n",
    "\n",
    "car = make_car('subaru', 'outback', color='blue', tow_package=True)\n",
    "print(car)\n",
    "\n"
   ]
  },
  {
   "cell_type": "code",
   "execution_count": null,
   "id": "45d7ecf9",
   "metadata": {},
   "outputs": [],
   "source": []
  }
 ],
 "metadata": {
  "kernelspec": {
   "display_name": "Python 3 (ipykernel)",
   "language": "python",
   "name": "python3"
  },
  "language_info": {
   "codemirror_mode": {
    "name": "ipython",
    "version": 3
   },
   "file_extension": ".py",
   "mimetype": "text/x-python",
   "name": "python",
   "nbconvert_exporter": "python",
   "pygments_lexer": "ipython3",
   "version": "3.9.13"
  }
 },
 "nbformat": 4,
 "nbformat_minor": 5
}
