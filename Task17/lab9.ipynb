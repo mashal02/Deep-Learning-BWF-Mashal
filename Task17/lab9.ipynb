{
 "cells": [
  {
   "cell_type": "code",
   "execution_count": 26,
   "id": "5f65e6df",
   "metadata": {},
   "outputs": [
    {
     "name": "stdout",
     "output_type": "stream",
     "text": [
      "['Arctica' 'Arctica' 'Arctica' 'Arctica' 'Arctica' 'Arctica' 'Harlequin'\n",
      " 'Harlequin' 'Arctica' 'Arctica' 'Arctica' 'Harlequin' 'Arctica'\n",
      " 'Harlequin' 'Harlequin' 'Carolinian' 'Harlequin' 'Carolinian'\n",
      " 'Carolinian' 'Harlequin' 'Harlequin' 'Carolinian' 'Harlequin'\n",
      " 'Carolinian' 'Harlequin' 'Harlequin' 'Carolinian' 'Carolinian'\n",
      " 'Carolinian' 'Carolinian']\n"
     ]
    }
   ],
   "source": [
    "#FROM SCRATCH\n",
    "\n",
    "import pandas as pd\n",
    "import numpy as np\n",
    "\n",
    "class k_classifier():\n",
    "    def __init__(self,k):\n",
    "        self.k=k\n",
    "        \n",
    "    def fit(self,xtrain,ytrain):\n",
    "        self.xtrain=xtrain\n",
    "        self.ytrain=ytrain\n",
    "       # no_of_training_examples, no_of_features\n",
    "        self.m, self.n = xtrain.shape \n",
    "    def predict(self, X_test):\n",
    "        Y_predict = np.zeros( len(X_test), dtype=self.ytrain.dtype )\n",
    "        for i, x in enumerate( X_test ):\n",
    "            neighbors = self.find_neighbors( x )\n",
    "            # most frequent class in K neighbors\n",
    "            #Y_predict[i] = mode( ytrain.iloc[list(neighbors)] )[0]\n",
    "            Y_predict[i] = mode( [tuple(n) for n in neighbors] )[0]\n",
    "        return Y_predict\n",
    "                                                                                                      \n",
    "    \n",
    "    # Function to find the K nearest neighbors to current test example   \n",
    "    def find_neighbors(self, x):\n",
    "        # calculate all the euclidean distances between current \n",
    "        # test example x and training set X_train\n",
    "        euclidean_distances = np.zeros(self.m)\n",
    "        for i in range(self.m):\n",
    "            d = self.euclidean(x, self.xtrain[i])\n",
    "            euclidean_distances[i] = d\n",
    "        # sort Y_train according to euclidean_distance_array and \n",
    "        # store into Y_train_sorted\n",
    "        inds = euclidean_distances.argsort()\n",
    "        Y_train_sorted = self.ytrain[inds]\n",
    "        return Y_train_sorted[:self.k]\n",
    "\n",
    "        \n",
    "        \n",
    "    def euclidean( self, x, x_train ) :\n",
    "        return np.sqrt( np.sum( np.square( x - x_train ) ) )\n",
    "    \n",
    "def main():\n",
    "    training=pd.read_excel(\"TrainingSet.xlsx\")\n",
    "    X_train = training.iloc[:,:-1].values #features \n",
    "    Y_train = training.iloc[:,-1:].values\n",
    "    \n",
    "    model=k_classifier(3)\n",
    "    model.fit(X_train,Y_train)\n",
    "    \n",
    "    testing=pd.read_excel(\"TestingSet.xlsx\")\n",
    "    X_test = testing.iloc[:,:-1].values #features \n",
    "    Y_pred = model.predict( X_test )\n",
    "    print(Y_pred)\n",
    "if __name__ == \"__main__\" :\n",
    "\t\n",
    "\tmain()    "
   ]
  },
  {
   "cell_type": "code",
   "execution_count": null,
   "id": "734eebfb",
   "metadata": {},
   "outputs": [],
   "source": []
  },
  {
   "cell_type": "code",
   "execution_count": 27,
   "id": "97cddb13",
   "metadata": {},
   "outputs": [
    {
     "name": "stdout",
     "output_type": "stream",
     "text": [
      "Accuracy: 1.0\n"
     ]
    },
    {
     "name": "stderr",
     "output_type": "stream",
     "text": [
      "C:\\Users\\HP\\anaconda3\\lib\\site-packages\\sklearn\\neighbors\\_classification.py:228: FutureWarning: Unlike other reduction functions (e.g. `skew`, `kurtosis`), the default behavior of `mode` typically preserves the axis it acts along. In SciPy 1.11.0, this behavior will change: the default value of `keepdims` will become False, the `axis` over which the statistic is taken will be eliminated, and the value None will no longer be accepted. Set `keepdims` to True or False to avoid this warning.\n",
      "  mode, _ = stats.mode(_y[neigh_ind, k], axis=1)\n",
      "C:\\Users\\HP\\anaconda3\\lib\\site-packages\\sklearn\\neighbors\\_classification.py:228: FutureWarning: Unlike other reduction functions (e.g. `skew`, `kurtosis`), the default behavior of `mode` typically preserves the axis it acts along. In SciPy 1.11.0, this behavior will change: the default value of `keepdims` will become False, the `axis` over which the statistic is taken will be eliminated, and the value None will no longer be accepted. Set `keepdims` to True or False to avoid this warning.\n",
      "  mode, _ = stats.mode(_y[neigh_ind, k], axis=1)\n"
     ]
    }
   ],
   "source": [
    "#Using scikit\n",
    "from sklearn.neighbors import KNeighborsClassifier\n",
    "from sklearn.datasets import load_iris\n",
    "from sklearn.model_selection import train_test_split\n",
    "\n",
    "# Load the iris dataset\n",
    "iris = load_iris()\n",
    "\n",
    "# Split the data into training and test sets\n",
    "X_train, X_test, y_train, y_test = train_test_split(iris.data, iris.target, test_size=0.2, random_state=42)\n",
    "\n",
    "# Create a KNN classifier with k=3\n",
    "knn = KNeighborsClassifier(n_neighbors=3)\n",
    "\n",
    "# Train the classifier on the training data\n",
    "knn.fit(X_train, y_train)\n",
    "\n",
    "# Use the trained classifier to predict the class labels for the test data\n",
    "y_pred = knn.predict(X_test)\n",
    "\n",
    "# Print the accuracy score of the classifier on the test data\n",
    "print(\"Accuracy:\", knn.score(X_test, y_test))\n"
   ]
  },
  {
   "cell_type": "code",
   "execution_count": null,
   "id": "f866fc70",
   "metadata": {},
   "outputs": [],
   "source": []
  }
 ],
 "metadata": {
  "kernelspec": {
   "display_name": "Python 3 (ipykernel)",
   "language": "python",
   "name": "python3"
  },
  "language_info": {
   "codemirror_mode": {
    "name": "ipython",
    "version": 3
   },
   "file_extension": ".py",
   "mimetype": "text/x-python",
   "name": "python",
   "nbconvert_exporter": "python",
   "pygments_lexer": "ipython3",
   "version": "3.9.13"
  }
 },
 "nbformat": 4,
 "nbformat_minor": 5
}
