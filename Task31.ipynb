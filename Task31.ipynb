{
 "cells": [
  {
   "cell_type": "code",
   "execution_count": 1,
   "id": "f0478de8",
   "metadata": {},
   "outputs": [
    {
     "name": "stdout",
     "output_type": "stream",
     "text": [
      "One-hot encoding results:\n",
      "[[0. 1. 1. 1. 1. 0. 0. 0. 0. 0. 0. 0. 0.]\n",
      " [0. 1. 0. 0. 0. 1. 1. 1. 1. 0. 0. 0. 0.]\n",
      " [0. 1. 0. 0. 0. 0. 0. 0. 0. 1. 1. 1. 1.]]\n",
      "1/1 [==============================] - 0s 275ms/step\n",
      "Word embedding results:\n",
      "[[-0.01100051 -0.03541148 -0.02485403 -0.02434299 -0.02670028  0.0163633\n",
      "   0.04545644  0.00411684 -0.03265601  0.00603601 -0.02851309 -0.01530228\n",
      "  -0.00541902  0.03447771  0.02588041  0.00143009  0.03216367  0.03117383\n",
      "  -0.00449853 -0.0012391  -0.03612119  0.01404545  0.01610499  0.01742622\n",
      "  -0.02103653 -0.03947791 -0.02023014 -0.03107767  0.02008306 -0.04471753\n",
      "   0.03913205 -0.01706512  0.01422476 -0.01557554 -0.02251157  0.03038111\n",
      "   0.04900778 -0.00441628 -0.0278134  -0.00776709 -0.01307587  0.0122133\n",
      "   0.03360364  0.00537433  0.00968224 -0.04658676  0.03894177 -0.02137687\n",
      "  -0.01226554  0.03114006]\n",
      " [-0.02851309 -0.01530228 -0.00541902  0.03447771  0.02588041  0.00143009\n",
      "   0.03216367  0.03117383 -0.00449853 -0.0012391  -0.04088665 -0.00701366\n",
      "  -0.03184365  0.03047134 -0.04135816  0.01297208 -0.03051783  0.0344995\n",
      "   0.03005776 -0.02025671  0.02715886 -0.0321509  -0.03921961 -0.00269948\n",
      "  -0.03030222 -0.02915291 -0.02949466 -0.01788349 -0.01040392 -0.02081626\n",
      "   0.00189088  0.02841004  0.00534829 -0.00691678  0.0053833   0.00688361\n",
      "   0.04136623 -0.03130861 -0.00838677  0.02793353 -0.04248714 -0.04501218\n",
      "  -0.02357259 -0.00877725 -0.0378324  -0.02562901 -0.006675    0.00292324\n",
      "   0.00706457  0.00299475]\n",
      " [-0.02851309 -0.01530228 -0.00541902  0.03447771  0.02588041  0.00143009\n",
      "   0.03216367  0.03117383 -0.00449853 -0.0012391   0.01685995  0.02214665\n",
      "  -0.01551346 -0.01495863  0.03594173  0.04893217  0.01759629 -0.03555051\n",
      "  -0.01771007  0.0130011  -0.02287166 -0.0475435  -0.0367977   0.01945337\n",
      "   0.01200374  0.0480244  -0.02492709 -0.01503229  0.01997136 -0.04112621\n",
      "  -0.00385284 -0.00745741  0.0313244   0.02572702  0.01381308  0.03267482\n",
      "  -0.03478975  0.03480209 -0.01607059 -0.03616422  0.03718344  0.0461942\n",
      "   0.03683547  0.00763787  0.03674461  0.04591236 -0.03573346 -0.0094166\n",
      "   0.04021759 -0.00812026]]\n"
     ]
    }
   ],
   "source": [
    "import tensorflow as tf\n",
    "from tensorflow.keras.preprocessing.text import Tokenizer\n",
    "from tensorflow.keras.preprocessing.sequence import pad_sequences\n",
    "\n",
    "# Example text data\n",
    "texts = [\n",
    "    'I love deep learning',\n",
    "    'I enjoy natural language processing',\n",
    "    'I prefer computer vision tasks'\n",
    "]\n",
    "\n",
    "# One-hot encoding\n",
    "tokenizer = Tokenizer()\n",
    "tokenizer.fit_on_texts(texts)\n",
    "sequences = tokenizer.texts_to_sequences(texts)\n",
    "one_hot_results = tokenizer.texts_to_matrix(texts, mode='binary')\n",
    "\n",
    "print('One-hot encoding results:')\n",
    "print(one_hot_results)\n",
    "\n",
    "# Word embedding\n",
    "vocab_size = len(tokenizer.word_index) + 1\n",
    "max_length = max([len(sequence) for sequence in sequences])\n",
    "padded_sequences = pad_sequences(sequences, maxlen=max_length)\n",
    "\n",
    "embedding_dim = 10\n",
    "model = tf.keras.Sequential([\n",
    "    tf.keras.layers.Embedding(vocab_size, embedding_dim, input_length=max_length),\n",
    "    tf.keras.layers.Flatten()\n",
    "])\n",
    "embedded_results = model.predict(padded_sequences)\n",
    "\n",
    "print('Word embedding results:')\n",
    "print(embedded_results)\n"
   ]
  },
  {
   "cell_type": "code",
   "execution_count": null,
   "id": "6f1802ea",
   "metadata": {},
   "outputs": [],
   "source": []
  }
 ],
 "metadata": {
  "kernelspec": {
   "display_name": "Python 3 (ipykernel)",
   "language": "python",
   "name": "python3"
  },
  "language_info": {
   "codemirror_mode": {
    "name": "ipython",
    "version": 3
   },
   "file_extension": ".py",
   "mimetype": "text/x-python",
   "name": "python",
   "nbconvert_exporter": "python",
   "pygments_lexer": "ipython3",
   "version": "3.9.13"
  }
 },
 "nbformat": 4,
 "nbformat_minor": 5
}
