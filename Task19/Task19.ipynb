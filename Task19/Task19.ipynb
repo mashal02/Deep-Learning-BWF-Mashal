{
 "cells": [
  {
   "cell_type": "code",
   "execution_count": 1,
   "id": "79c1ef33",
   "metadata": {},
   "outputs": [
    {
     "name": "stdout",
     "output_type": "stream",
     "text": [
      "Scalar Tensor:\n",
      " 5\n",
      "\n",
      "Vector Tensor:\n",
      " [1 2 3]\n",
      "\n",
      "Matrix Tensor:\n",
      " [[1 2]\n",
      " [3 4]]\n",
      "\n",
      "3D Tensor:\n",
      " [[[1 2]\n",
      "  [3 4]]\n",
      "\n",
      " [[5 6]\n",
      "  [7 8]]]\n",
      "(2, 2, 2)\n",
      "\n",
      "Random Tensor:\n",
      " [[-0.73145043 -0.07422228  0.34452886]\n",
      " [-1.13989412 -1.8887973  -0.37774678]\n",
      " [-0.80868092  0.85315331 -0.08089854]]\n"
     ]
    }
   ],
   "source": [
    "import numpy as np\n",
    "\n",
    "# Create a scalar tensor\n",
    "scalar_tensor = np.array(5)\n",
    "print(\"Scalar Tensor:\\n\", scalar_tensor)\n",
    "\n",
    "# Create a vector tensor\n",
    "vector_tensor = np.array([1, 2, 3])\n",
    "print(\"\\nVector Tensor:\\n\", vector_tensor)\n",
    "\n",
    "# Create a matrix tensor\n",
    "matrix_tensor = np.array([[1, 2], [3, 4]])\n",
    "print(\"\\nMatrix Tensor:\\n\", matrix_tensor)\n",
    "\n",
    "# Create a 3D tensor\n",
    "tensor_3d = np.array([[[1, 2], [3, 4]], [[5, 6], [7, 8]]])\n",
    "print(\"\\n3D Tensor:\\n\", tensor_3d)\n",
    "print(tensor_3d.shape)\n",
    "\n",
    "# Create a random tensor (as a NumPy array)\n",
    "random_tensor = np.random.normal(size=(3, 3))\n",
    "print(\"\\nRandom Tensor:\\n\", random_tensor)"
   ]
  },
  {
   "cell_type": "code",
   "execution_count": 2,
   "id": "b2a1d5e7",
   "metadata": {},
   "outputs": [
    {
     "name": "stdout",
     "output_type": "stream",
     "text": [
      "Original Tensor Shape: (2, 3, 4)\n",
      "Reshaped Tensor Shape: (2, 12)\n"
     ]
    }
   ],
   "source": [
    "import numpy as np\n",
    "\n",
    "# Create a 3D tensor\n",
    "tensor_3d = np.array([[[1, 2, 3, 4], [5, 6, 7, 8], [9, 10, 11, 12]],\n",
    "                      [[13, 14, 15, 16], [17, 18, 19, 20], [21, 22, 23, 24]]])\n",
    "\n",
    "# Reshape the tensor to a 2D tensor\n",
    "tensor_2d = tensor_3d.reshape((2, 12))\n",
    "\n",
    "# Print the shapes of the tensors\n",
    "print(\"Original Tensor Shape:\", tensor_3d.shape)\n",
    "print(\"Reshaped Tensor Shape:\", tensor_2d.shape)"
   ]
  },
  {
   "cell_type": "code",
   "execution_count": 3,
   "id": "965d970e",
   "metadata": {},
   "outputs": [
    {
     "name": "stdout",
     "output_type": "stream",
     "text": [
      "[[19 22]\n",
      " [43 50]]\n"
     ]
    }
   ],
   "source": [
    "import numpy as np\n",
    "\n",
    "a = np.array([[1, 2], [3, 4]])\n",
    "b = np.array([[5, 6], [7, 8]])\n",
    "\n",
    "result = np.dot(a, b)\n",
    "\n",
    "print(result)"
   ]
  },
  {
   "cell_type": "code",
   "execution_count": null,
   "id": "058616d9",
   "metadata": {},
   "outputs": [],
   "source": []
  }
 ],
 "metadata": {
  "kernelspec": {
   "display_name": "Python 3 (ipykernel)",
   "language": "python",
   "name": "python3"
  },
  "language_info": {
   "codemirror_mode": {
    "name": "ipython",
    "version": 3
   },
   "file_extension": ".py",
   "mimetype": "text/x-python",
   "name": "python",
   "nbconvert_exporter": "python",
   "pygments_lexer": "ipython3",
   "version": "3.9.13"
  }
 },
 "nbformat": 4,
 "nbformat_minor": 5
}
