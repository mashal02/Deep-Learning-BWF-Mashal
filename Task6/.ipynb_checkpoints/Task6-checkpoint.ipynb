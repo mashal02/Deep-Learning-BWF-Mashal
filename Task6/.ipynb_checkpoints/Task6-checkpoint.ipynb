{
 "cells": [
  {
   "cell_type": "code",
   "execution_count": 1,
   "id": "6d8eeab8",
   "metadata": {},
   "outputs": [
    {
     "name": "stdout",
     "output_type": "stream",
     "text": [
      "First Name: John\n",
      "Last Name: Doe\n",
      "Age: 30\n",
      "City: New York\n"
     ]
    }
   ],
   "source": [
    "#6.1\n",
    "person = {\n",
    "    'first_name': 'John',\n",
    "    'last_name': 'Doe',\n",
    "    'age': 30,\n",
    "    'city': 'New York'\n",
    "}\n",
    "\n",
    "print(\"First Name:\", person['first_name'])\n",
    "print(\"Last Name:\", person['last_name'])\n",
    "print(\"Age:\", person['age'])\n",
    "print(\"City:\", person['city'])\n",
    "\n"
   ]
  },
  {
   "cell_type": "code",
   "execution_count": 2,
   "id": "3111fb6d",
   "metadata": {},
   "outputs": [
    {
     "name": "stdout",
     "output_type": "stream",
     "text": [
      "John's favorite number is 10\n",
      "Alice's favorite number is 25\n",
      "Bob's favorite number is 16\n",
      "Mary's favorite number is 8\n",
      "Tom's favorite number is 16\n"
     ]
    }
   ],
   "source": [
    "#6.2\n",
    "favorite_numbers = {\n",
    "    'John': 10,\n",
    "    'Alice': 25,\n",
    "    'Bob': 16,\n",
    "    'Mary': 8,\n",
    "    'Tom': 16\n",
    "}\n",
    "\n",
    "for name, number in favorite_numbers.items():\n",
    "    print(name + \"'s favorite number is\", number)\n"
   ]
  },
  {
   "cell_type": "code",
   "execution_count": 6,
   "id": "8c49d96f",
   "metadata": {},
   "outputs": [
    {
     "name": "stdout",
     "output_type": "stream",
     "text": [
      "List:\n",
      "- a collection of items in a particular order\n",
      "\n",
      "Tuple:\n",
      "- an immutable list\n",
      "\n",
      "Dictionary:\n",
      "- a collection of key-value pairs\n",
      "\n",
      "Function:\n",
      "- a block of code that can be called to perform a specific task\n",
      "\n",
      "Loop:\n",
      "- a programming construct that repeats a sequence of instructions until a specific condition is met\n",
      "\n"
     ]
    }
   ],
   "source": [
    "#6.3\n",
    "glossary = {\n",
    "    'list': 'a collection of items in a particular order',\n",
    "    'tuple': 'an immutable list',\n",
    "    'dictionary': 'a collection of key-value pairs',\n",
    "    'function': 'a block of code that can be called to perform a specific task',\n",
    "    'loop': 'a programming construct that repeats a sequence of instructions until a specific condition is met'\n",
    "}\n",
    "\n",
    "for term, definition in glossary.items():\n",
    "    print(term.title() + \":\")\n",
    "    print(\"- \" + definition)\n",
    "    print()\n"
   ]
  },
  {
   "cell_type": "markdown",
   "id": "0f7a884e",
   "metadata": {},
   "source": [
    "glossary = {\n",
    "    'string': 'a sequence of characters',\n",
    "    'list': 'a collection of items in a particular order',\n",
    "    'dictionary': 'a collection of key-value pairs',\n",
    "    'tuple': 'an immutable list',\n",
    "    'loop': 'a programming construct that repeats a sequence of instructions until a specific condition is met'\n",
    "}\n",
    "\n",
    "for word, meaning in glossary.items():\n",
    "    print(f\"{word.title()}: {meaning}\")\n",
    "\n",
    "# Adding more words to the glossary\n",
    "glossary['set'] = 'a collection of unique elements'\n",
    "glossary['function'] = 'a named block of code that performs a specific task'\n",
    "glossary['module'] = 'a file containing Python code'\n",
    "glossary['class'] = 'a blueprint for creating objects'\n",
    "glossary['variable'] = 'a name that refers to a value stored in the computer memory'\n",
    "\n",
    "print(\"\\nAfter adding more words:\\n\")\n",
    "for word, meaning in glossary.items():\n",
    "    print(f\"{word.title()}: {meaning}\")\n"
   ]
  },
  {
   "cell_type": "code",
   "execution_count": null,
   "id": "07e7f9ad",
   "metadata": {},
   "outputs": [],
   "source": []
  },
  {
   "cell_type": "code",
   "execution_count": 5,
   "id": "477d8a0e",
   "metadata": {},
   "outputs": [
    {
     "name": "stdout",
     "output_type": "stream",
     "text": [
      "String: a sequence of characters\n",
      "List: a collection of items in a particular order\n",
      "Dictionary: a collection of key-value pairs\n",
      "Tuple: an immutable list\n",
      "Loop: a programming construct that repeats a sequence of instructions until a specific condition is met\n",
      "\n",
      "After adding more words:\n",
      "\n",
      "String: a sequence of characters\n",
      "List: a collection of items in a particular order\n",
      "Dictionary: a collection of key-value pairs\n",
      "Tuple: an immutable list\n",
      "Loop: a programming construct that repeats a sequence of instructions until a specific condition is met\n",
      "Set: a collection of unique elements\n",
      "Function: a named block of code that performs a specific task\n",
      "Module: a file containing Python code\n",
      "Class: a blueprint for creating objects\n",
      "Variable: a name that refers to a value stored in the computer memory\n"
     ]
    }
   ],
   "source": [
    "#6.4\n",
    "glossary = {\n",
    "    'string': 'a sequence of characters',\n",
    "    'list': 'a collection of items in a particular order',\n",
    "    'dictionary': 'a collection of key-value pairs',\n",
    "    'tuple': 'an immutable list',\n",
    "    'loop': 'a programming construct that repeats a sequence of instructions until a specific condition is met'\n",
    "}\n",
    "\n",
    "for word, meaning in glossary.items():\n",
    "    print(f\"{word.title()}: {meaning}\")\n",
    "\n",
    "# Adding more words to the glossary\n",
    "glossary['set'] = 'a collection of unique elements'\n",
    "glossary['function'] = 'a named block of code that performs a specific task'\n",
    "glossary['module'] = 'a file containing Python code'\n",
    "glossary['class'] = 'a blueprint for creating objects'\n",
    "glossary['variable'] = 'a name that refers to a value stored in the computer memory'\n",
    "\n",
    "print(\"\\nAfter adding more words:\\n\")\n",
    "for word, meaning in glossary.items():\n",
    "    print(f\"{word.title()}: {meaning}\")\n"
   ]
  },
  {
   "cell_type": "code",
   "execution_count": 7,
   "id": "85789f3c",
   "metadata": {},
   "outputs": [
    {
     "name": "stdout",
     "output_type": "stream",
     "text": [
      "The Nile runs through Egypt.\n",
      "The Amazon runs through Brazil.\n",
      "The Yangtze runs through China.\n",
      "Nile\n",
      "Amazon\n",
      "Yangtze\n",
      "Egypt\n",
      "Brazil\n",
      "China\n"
     ]
    }
   ],
   "source": [
    "#6.5\n",
    "rivers = {\n",
    "    'nile': 'Egypt',\n",
    "    'amazon': 'Brazil',\n",
    "    'yangtze': 'China'\n",
    "}\n",
    "\n",
    "# print a sentence about each river\n",
    "for river, country in rivers.items():\n",
    "    print(f\"The {river.title()} runs through {country.title()}.\")\n",
    "\n",
    "# print the names of each river\n",
    "for river in rivers.keys():\n",
    "    print(river.title())\n",
    "\n",
    "# print the names of each country\n",
    "for country in rivers.values():\n",
    "    print(country.title())\n"
   ]
  },
  {
   "cell_type": "code",
   "execution_count": 8,
   "id": "89fb19f5",
   "metadata": {},
   "outputs": [
    {
     "name": "stdout",
     "output_type": "stream",
     "text": [
      "Thank you, Jen, for responding to the poll.\n",
      "Thank you, Sarah, for responding to the poll.\n",
      "Josh, what's your favorite programming language? Please take the poll.\n",
      "Matt, what's your favorite programming language? Please take the poll.\n"
     ]
    }
   ],
   "source": [
    "favorite_languages = {\n",
    "    'jen': 'python',\n",
    "    'sarah': 'c',\n",
    "    'edward': 'ruby',\n",
    "    'phil': 'python',\n",
    "}\n",
    "\n",
    "poll_takers = ['jen', 'sarah', 'josh', 'matt']\n",
    "\n",
    "for name in poll_takers:\n",
    "    if name in favorite_languages.keys():\n",
    "        print(f\"Thank you, {name.title()}, for responding to the poll.\")\n",
    "    else:\n",
    "        print(f\"{name.title()}, what's your favorite programming language? Please take the poll.\")\n"
   ]
  },
  {
   "cell_type": "code",
   "execution_count": 9,
   "id": "10b5b938",
   "metadata": {},
   "outputs": [
    {
     "name": "stdout",
     "output_type": "stream",
     "text": [
      "Kind of animal: dog\n",
      "Owner's name: John\n",
      "\n",
      "Kind of animal: cat\n",
      "Owner's name: Jane\n",
      "\n",
      "Kind of animal: fish\n",
      "Owner's name: Bob\n",
      "\n"
     ]
    }
   ],
   "source": [
    "#6.8\n",
    "# make dictionaries for each pet\n",
    "pet1 = {\"kind\": \"dog\", \"owner\": \"John\"}\n",
    "pet2 = {\"kind\": \"cat\", \"owner\": \"Jane\"}\n",
    "pet3 = {\"kind\": \"fish\", \"owner\": \"Bob\"}\n",
    "\n",
    "# store all dictionaries in a list called pets\n",
    "pets = [pet1, pet2, pet3]\n",
    "\n",
    "# loop through the list and print everything you know about each pet\n",
    "for pet in pets:\n",
    "    print(\"Kind of animal: \" + pet[\"kind\"])\n",
    "    print(\"Owner's name: \" + pet[\"owner\"])\n",
    "    print()\n"
   ]
  },
  {
   "cell_type": "code",
   "execution_count": 10,
   "id": "33a1b528",
   "metadata": {},
   "outputs": [
    {
     "name": "stdout",
     "output_type": "stream",
     "text": [
      "Alice's favorite places:\n",
      "- Paris\n",
      "- London\n",
      "\n",
      "Bob's favorite places:\n",
      "- New York\n",
      "- San Francisco\n",
      "\n",
      "Charlie's favorite places:\n",
      "- Tokyo\n",
      "- Kyoto\n",
      "- Osaka\n",
      "\n"
     ]
    }
   ],
   "source": [
    "#6.9\n",
    "# make the dictionary of favorite places\n",
    "favorite_places = {\n",
    "    \"Alice\": [\"Paris\", \"London\"],\n",
    "    \"Bob\": [\"New York\", \"San Francisco\"],\n",
    "    \"Charlie\": [\"Tokyo\", \"Kyoto\", \"Osaka\"]\n",
    "}\n",
    "\n",
    "# loop through the dictionary and print each person's name and their favorite places\n",
    "for name, places in favorite_places.items():\n",
    "    print(name + \"'s favorite places:\")\n",
    "    for place in places:\n",
    "        print(\"- \" + place)\n",
    "    print()\n"
   ]
  },
  {
   "cell_type": "code",
   "execution_count": 11,
   "id": "d8b18556",
   "metadata": {},
   "outputs": [
    {
     "name": "stdout",
     "output_type": "stream",
     "text": [
      "Alice's favorite numbers:\n",
      "- 42\n",
      "- 7\n",
      "- 13\n",
      "\n",
      "Bob's favorite numbers:\n",
      "- 10\n",
      "- 20\n",
      "\n",
      "Charlie's favorite numbers:\n",
      "- 8\n",
      "\n"
     ]
    }
   ],
   "source": [
    "#6.10\n",
    "# make the dictionary of favorite numbers\n",
    "favorite_numbers = {\n",
    "    \"Alice\": [42, 7, 13],\n",
    "    \"Bob\": [10, 20],\n",
    "    \"Charlie\": [8]\n",
    "}\n",
    "\n",
    "# loop through the dictionary and print each person's name and their favorite numbers\n",
    "for name, numbers in favorite_numbers.items():\n",
    "    print(name + \"'s favorite numbers:\")\n",
    "    for number in numbers:\n",
    "        print(\"- \" + str(number))\n",
    "    print()\n"
   ]
  },
  {
   "cell_type": "code",
   "execution_count": 12,
   "id": "cc5a3869",
   "metadata": {},
   "outputs": [
    {
     "name": "stdout",
     "output_type": "stream",
     "text": [
      "New York:\n",
      "\tCountry: United States\n",
      "\tPopulation: 8300000.0\n",
      "\tFact: The Statue of Liberty is located in New York Harbor.\n",
      "Paris:\n",
      "\tCountry: France\n",
      "\tPopulation: 2100000.0\n",
      "\tFact: The Eiffel Tower was built for the 1889 World Expo.\n",
      "Tokyo:\n",
      "\tCountry: Japan\n",
      "\tPopulation: 13500000.0\n",
      "\tFact: Tokyo is the most populous city in Japan and the world.\n"
     ]
    }
   ],
   "source": [
    "#6.11\n",
    "cities = {\n",
    "    'New York': {\n",
    "        'country': 'United States',\n",
    "        'population': 8.3e6,\n",
    "        'fact': 'The Statue of Liberty is located in New York Harbor.'\n",
    "    },\n",
    "    'Paris': {\n",
    "        'country': 'France',\n",
    "        'population': 2.1e6,\n",
    "        'fact': 'The Eiffel Tower was built for the 1889 World Expo.'\n",
    "    },\n",
    "    'Tokyo': {\n",
    "        'country': 'Japan',\n",
    "        'population': 13.5e6,\n",
    "        'fact': 'Tokyo is the most populous city in Japan and the world.'\n",
    "    }\n",
    "}\n",
    "\n",
    "# Print information about each city\n",
    "for city, info in cities.items():\n",
    "    print(city + \":\")\n",
    "    print(\"\\tCountry: \" + info['country'])\n",
    "    print(\"\\tPopulation: \" + str(info['population']))\n",
    "    print(\"\\tFact: \" + info['fact'])\n"
   ]
  },
  {
   "cell_type": "code",
   "execution_count": null,
   "id": "2f25b404",
   "metadata": {},
   "outputs": [],
   "source": []
  }
 ],
 "metadata": {
  "kernelspec": {
   "display_name": "Python 3 (ipykernel)",
   "language": "python",
   "name": "python3"
  },
  "language_info": {
   "codemirror_mode": {
    "name": "ipython",
    "version": 3
   },
   "file_extension": ".py",
   "mimetype": "text/x-python",
   "name": "python",
   "nbconvert_exporter": "python",
   "pygments_lexer": "ipython3",
   "version": "3.9.13"
  }
 },
 "nbformat": 4,
 "nbformat_minor": 5
}
