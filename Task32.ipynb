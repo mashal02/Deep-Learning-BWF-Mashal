{
 "cells": [
  {
   "cell_type": "code",
   "execution_count": 2,
   "id": "7c8c297b",
   "metadata": {},
   "outputs": [
    {
     "name": "stdout",
     "output_type": "stream",
     "text": [
      "Epoch 1/10\n",
      "4/4 [==============================] - 2s 8ms/step - loss: 0.7010 - accuracy: 0.4900\n",
      "Epoch 2/10\n",
      "4/4 [==============================] - 0s 2ms/step - loss: 0.6939 - accuracy: 0.5100\n",
      "Epoch 3/10\n",
      "4/4 [==============================] - 0s 5ms/step - loss: 0.6920 - accuracy: 0.5100\n",
      "Epoch 4/10\n",
      "4/4 [==============================] - 0s 6ms/step - loss: 0.6902 - accuracy: 0.5100\n",
      "Epoch 5/10\n",
      "4/4 [==============================] - 0s 6ms/step - loss: 0.6901 - accuracy: 0.5100\n",
      "Epoch 6/10\n",
      "4/4 [==============================] - 0s 484us/step - loss: 0.6899 - accuracy: 0.5100\n",
      "Epoch 7/10\n",
      "4/4 [==============================] - 0s 6ms/step - loss: 0.6912 - accuracy: 0.5100\n",
      "Epoch 8/10\n",
      "4/4 [==============================] - 0s 6ms/step - loss: 0.6885 - accuracy: 0.5100\n",
      "Epoch 9/10\n",
      "4/4 [==============================] - 0s 2ms/step - loss: 0.6884 - accuracy: 0.5100\n",
      "Epoch 10/10\n",
      "4/4 [==============================] - 0s 5ms/step - loss: 0.6891 - accuracy: 0.5100\n",
      "1/1 [==============================] - 0s 397ms/step - loss: 0.6299 - accuracy: 0.8000\n",
      "Test Loss: 0.6299489736557007\n",
      "Test Accuracy: 0.800000011920929\n"
     ]
    }
   ],
   "source": [
    "import tensorflow as tf\n",
    "from tensorflow.keras.models import Sequential\n",
    "from tensorflow.keras.layers import Conv1D, MaxPooling1D, LSTM, Dense, Flatten\n",
    "import numpy as np\n",
    "\n",
    "# Generate sample data\n",
    "timesteps = 10\n",
    "input_dim = 1\n",
    "num_classes = 2\n",
    "train_data = np.random.rand(100, timesteps, input_dim)\n",
    "train_labels = np.random.randint(num_classes, size=(100,))\n",
    "train_labels = tf.keras.utils.to_categorical(train_labels, num_classes=num_classes)  # Convert labels to one-hot encoded format\n",
    "\n",
    "test_data = np.random.rand(20, timesteps, input_dim)\n",
    "test_labels = np.random.randint(num_classes, size=(20,))\n",
    "test_labels = tf.keras.utils.to_categorical(test_labels, num_classes=num_classes)  # Convert labels to one-hot encoded format\n",
    "\n",
    "# Define the model architecture\n",
    "model = Sequential()\n",
    "model.add(Conv1D(64, 3, activation='relu', input_shape=(timesteps, input_dim)))\n",
    "model.add(MaxPooling1D(2))\n",
    "model.add(LSTM(64))\n",
    "model.add(Dense(64, activation='relu'))\n",
    "model.add(Dense(num_classes, activation='softmax'))\n",
    "\n",
    "# Compile the model\n",
    "model.compile(loss='categorical_crossentropy', optimizer='adam', metrics=['accuracy'])\n",
    "\n",
    "# Train the model\n",
    "model.fit(train_data, train_labels, epochs=10, batch_size=32)\n",
    "\n",
    "# Evaluate the model\n",
    "test_loss, test_accuracy = model.evaluate(test_data, test_labels)\n",
    "print('Test Loss:', test_loss)\n",
    "print('Test Accuracy:', test_accuracy)\n"
   ]
  },
  {
   "cell_type": "code",
   "execution_count": null,
   "id": "634fdd1e",
   "metadata": {},
   "outputs": [],
   "source": []
  }
 ],
 "metadata": {
  "kernelspec": {
   "display_name": "Python 3 (ipykernel)",
   "language": "python",
   "name": "python3"
  },
  "language_info": {
   "codemirror_mode": {
    "name": "ipython",
    "version": 3
   },
   "file_extension": ".py",
   "mimetype": "text/x-python",
   "name": "python",
   "nbconvert_exporter": "python",
   "pygments_lexer": "ipython3",
   "version": "3.9.13"
  }
 },
 "nbformat": 4,
 "nbformat_minor": 5
}
