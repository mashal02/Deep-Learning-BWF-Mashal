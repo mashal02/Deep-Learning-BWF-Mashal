{
 "cells": [
  {
   "cell_type": "code",
   "execution_count": 3,
   "id": "523cb9b9",
   "metadata": {},
   "outputs": [
    {
     "name": "stdout",
     "output_type": "stream",
     "text": [
      "Mean: 4.9\n",
      "Median: 4.5\n",
      "Mode: 4\n",
      "Standard Deviation: 2.4677925358506134\n"
     ]
    }
   ],
   "source": [
    "import numpy as np\n",
    "import statistics as st\n",
    "\n",
    "#mean media Mode Standard deviation\n",
    "# Create an array\n",
    "arr = np.array([3, 5, 2, 8, 7, 6, 1, 4, 9,4])\n",
    "\n",
    "# Mean\n",
    "mean = np.mean(arr)\n",
    "print(\"Mean:\", mean)\n",
    "\n",
    "# Median\n",
    "median = np.median(arr)\n",
    "print(\"Median:\", median)\n",
    "\n",
    "# Mode\n",
    "print(\"Mode:\", st.mode(arr))\n",
    "\n",
    "# Standard Deviation\n",
    "std_dev = np.std(arr)\n",
    "print(\"Standard Deviation:\", std_dev)\n"
   ]
  },
  {
   "cell_type": "code",
   "execution_count": 4,
   "id": "b3721057",
   "metadata": {},
   "outputs": [
    {
     "name": "stdout",
     "output_type": "stream",
     "text": [
      "First Quartile: 30.0\n",
      "Second Quartile: 50.0\n",
      "Third Quartile: 70.0\n"
     ]
    }
   ],
   "source": [
    "#Quartiles\n",
    "import numpy as np\n",
    "\n",
    "# Create an array\n",
    "arr = np.array([10, 20, 30, 40, 50, 60, 70, 80, 90])\n",
    "\n",
    "# Calculate the first quartile (25th percentile)\n",
    "q1 = np.percentile(arr, 25)\n",
    "print(\"First Quartile:\", q1)\n",
    "\n",
    "# Calculate the second quartile (50th percentile)\n",
    "q2 = np.percentile(arr, 50)\n",
    "print(\"Second Quartile:\", q2)\n",
    "\n",
    "# Calculate the third quartile (75th percentile)\n",
    "q3 = np.percentile(arr, 75)\n",
    "print(\"Third Quartile:\", q3)\n"
   ]
  },
  {
   "cell_type": "code",
   "execution_count": 6,
   "id": "c5884dd5",
   "metadata": {},
   "outputs": [
    {
     "data": {
      "image/png": "[encoded data removed]",
      "text/plain": [
       "<Figure size 640x480 with 1 Axes>"
      ]
     },
     "metadata": {},
     "output_type": "display_data"
    }
   ],
   "source": [
    "import numpy as np\n",
    "import matplotlib.pyplot as plt\n",
    "\n",
    "# Generate a random normal distribution\n",
    "mean = 0\n",
    "std_dev = 1\n",
    "samples = 100\n",
    "dist = np.random.normal(mean, std_dev, samples)\n",
    "\n",
    "# Plot the distribution\n",
    "plt.hist(dist, bins=50)\n",
    "plt.title(\"Normal Distribution\")\n",
    "plt.show()\n"
   ]
  },
  {
   "cell_type": "code",
   "execution_count": 7,
   "id": "9da23f9e",
   "metadata": {},
   "outputs": [
    {
     "name": "stdout",
     "output_type": "stream",
     "text": [
      "[0.002 0.025 0.068 0.155 0.253 0.249 0.161 0.067 0.013 0.007]\n"
     ]
    }
   ],
   "source": [
    "#Probability Distribution\n",
    "import numpy as np\n",
    "\n",
    "# generate a random array\n",
    "data = np.random.normal(0, 1, 1000)\n",
    "\n",
    "# calculate the histogram\n",
    "hist, bins = np.histogram(data, bins=10)\n",
    "\n",
    "# calculate the probability distribution\n",
    "prob_dist = hist / len(data)\n",
    "\n",
    "print(prob_dist)\n"
   ]
  },
  {
   "cell_type": "code",
   "execution_count": 9,
   "id": "c53f9a9d",
   "metadata": {},
   "outputs": [
    {
     "name": "stdout",
     "output_type": "stream",
     "text": [
      "Rank: [8 1 4 0 5 3 6 7 2]\n",
      "[9. 2. 5. 1. 6. 4. 7. 8. 3.]\n"
     ]
    }
   ],
   "source": [
    "#Rank\n",
    "import numpy as np\n",
    "\n",
    "# Create an array\n",
    "arr = np.array([9, 2, 5, 1, 6, 4, 7, 8, 3])\n",
    "\n",
    "# Calculate the rank of each element\n",
    "rank = np.argsort(np.argsort(arr))\n",
    "print(\"Rank:\", rank)\n",
    "\n",
    "\n",
    "\n",
    "from scipy.stats import rankdata \n",
    "\n",
    "#calculate rank of each item in array\n",
    "ranks = rankdata(arr)\n",
    "\n",
    "#view ranks\n",
    "print(ranks)\n"
   ]
  },
  {
   "cell_type": "code",
   "execution_count": null,
   "id": "b6033783",
   "metadata": {},
   "outputs": [],
   "source": []
  }
 ],
 "metadata": {
  "kernelspec": {
   "display_name": "Python 3 (ipykernel)",
   "language": "python",
   "name": "python3"
  },
  "language_info": {
   "codemirror_mode": {
    "name": "ipython",
    "version": 3
   },
   "file_extension": ".py",
   "mimetype": "text/x-python",
   "name": "python",
   "nbconvert_exporter": "python",
   "pygments_lexer": "ipython3",
   "version": "3.9.13"
  }
 },
 "nbformat": 4,
 "nbformat_minor": 5
}
