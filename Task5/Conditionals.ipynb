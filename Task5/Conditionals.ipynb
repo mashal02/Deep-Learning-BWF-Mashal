{
 "cells": [
  {
   "cell_type": "code",
   "execution_count": 1,
   "id": "d83918ee",
   "metadata": {},
   "outputs": [
    {
     "name": "stdout",
     "output_type": "stream",
     "text": [
      "Is age >= 18? I predict True.\n",
      "True\n",
      "Is name == 'John'? I predict True.\n",
      "True\n",
      "Is score < 80? I predict False.\n",
      "False\n",
      "Is grade == 'A'? I predict False.\n",
      "False\n",
      "Is fruit == 'banana'? I predict False.\n",
      "False\n",
      "Is city != 'Los Angeles'? I predict True.\n",
      "True\n",
      "Is is_sunny == False? I predict False.\n",
      "False\n",
      "Is weight <= 60? I predict False.\n",
      "False\n",
      "Is language == 'python'? I predict False.\n",
      "False\n",
      "Is has_pet == True? I predict False.\n",
      "False\n"
     ]
    }
   ],
   "source": [
    "#5.1\n",
    "# Test 1\n",
    "age = 18\n",
    "print(\"Is age >= 18? I predict True.\")\n",
    "print(age >= 18)\n",
    "\n",
    "# Test 2\n",
    "name = \"John\"\n",
    "print(\"Is name == 'John'? I predict True.\")\n",
    "print(name == \"John\")\n",
    "\n",
    "# Test 3\n",
    "score = 90\n",
    "print(\"Is score < 80? I predict False.\")\n",
    "print(score < 80)\n",
    "\n",
    "# Test 4\n",
    "grade = \"B\"\n",
    "print(\"Is grade == 'A'? I predict False.\")\n",
    "print(grade == \"A\")\n",
    "\n",
    "# Test 5\n",
    "fruit = \"apple\"\n",
    "print(\"Is fruit == 'banana'? I predict False.\")\n",
    "print(fruit == \"banana\")\n",
    "\n",
    "# Test 6\n",
    "city = \"New York\"\n",
    "print(\"Is city != 'Los Angeles'? I predict True.\")\n",
    "print(city != \"Los Angeles\")\n",
    "\n",
    "# Test 7\n",
    "is_sunny = True\n",
    "print(\"Is is_sunny == False? I predict False.\")\n",
    "print(is_sunny == False)\n",
    "\n",
    "# Test 8\n",
    "weight = 70\n",
    "print(\"Is weight <= 60? I predict False.\")\n",
    "print(weight <= 60)\n",
    "\n",
    "# Test 9\n",
    "language = \"Python\"\n",
    "print(\"Is language == 'python'? I predict False.\")\n",
    "print(language == \"python\")\n",
    "\n",
    "# Test 10\n",
    "has_pet = False\n",
    "print(\"Is has_pet == True? I predict False.\")\n",
    "print(has_pet == True)\n",
    "\n"
   ]
  },
  {
   "cell_type": "code",
   "execution_count": 3,
   "id": "df3e8509",
   "metadata": {},
   "outputs": [
    {
     "name": "stdout",
     "output_type": "stream",
     "text": [
      "Is name == 'alice'? I predict False.\n",
      "False\n",
      "Is name != 'bob'? I predict True.\n",
      "True\n",
      "Is title.lower() == 'the catcher in the rye'? I predict True.\n",
      "True\n",
      "Is title.lower() == 'to kill a mockingbird'? I predict False.\n",
      "False\n"
     ]
    }
   ],
   "source": [
    "#5.2\n",
    "#Tests for equality and inequality with strings\n",
    "name = \"Alice\"\n",
    "print(\"Is name == 'alice'? I predict False.\")\n",
    "print(name == \"alice\")\n",
    "print(\"Is name != 'bob'? I predict True.\")\n",
    "print(name != \"bob\")\n",
    "\n",
    "# Tests using the lower() function\n",
    "title = \"The Catcher in the Rye\"\n",
    "print(\"Is title.lower() == 'the catcher in the rye'? I predict True.\")\n",
    "print(title.lower() == \"the catcher in the rye\")\n",
    "print(\"Is title.lower() == 'to kill a mockingbird'? I predict False.\")\n",
    "print(title.lower() == \"to kill a mockingbird\")"
   ]
  },
  {
   "cell_type": "code",
   "execution_count": 4,
   "id": "164b8594",
   "metadata": {},
   "outputs": [
    {
     "name": "stdout",
     "output_type": "stream",
     "text": [
      "Congratulations! You just earned 5 points.\n"
     ]
    }
   ],
   "source": [
    "# 5.3\n",
    "#Alien Colors #1\n",
    "\n",
    "# Green alien\n",
    "alien_color = \"green\"\n",
    "\n",
    "# If statement to test if alien's color is green\n",
    "if alien_color == \"green\":\n",
    "    print(\"Congratulations! You just earned 5 points.\")\n",
    "\n",
    "# Alien Colors #1 - Failing version\n",
    "\n",
    "# Red alien\n",
    "alien_color = \"red\"\n",
    "\n",
    "# If statement to test if alien's color is green\n",
    "if alien_color == \"green\":\n",
    "    print(\"Congratulations! You just earned 5 points.\")\n"
   ]
  },
  {
   "cell_type": "code",
   "execution_count": 5,
   "id": "3a3c9855",
   "metadata": {},
   "outputs": [
    {
     "name": "stdout",
     "output_type": "stream",
     "text": [
      "Congratulations! You just earned 5 points for shooting the green alien.\n",
      "Congratulations! You just earned 10 points for shooting the alien.\n"
     ]
    }
   ],
   "source": [
    "# 5.4\n",
    "#Alien Colors #2\n",
    "\n",
    "# Green alien\n",
    "alien_color = \"green\"\n",
    "\n",
    "# If-else chain to test alien's color\n",
    "if alien_color == \"green\":\n",
    "    print(\"Congratulations! You just earned 5 points for shooting the green alien.\")\n",
    "else:\n",
    "    print(\"Congratulations! You just earned 10 points for shooting the alien.\")\n",
    "\n",
    "# Alien Colors #2 - Failing version\n",
    "\n",
    "# Red alien\n",
    "alien_color = \"red\"\n",
    "\n",
    "# If-else chain to test alien's color\n",
    "if alien_color == \"green\":\n",
    "    print(\"Congratulations! You just earned 5 points for shooting the green alien.\")\n",
    "else:\n",
    "    print(\"Congratulations! You just earned 10 points for shooting the alien.\")\n"
   ]
  },
  {
   "cell_type": "code",
   "execution_count": 6,
   "id": "9d3975ab",
   "metadata": {},
   "outputs": [
    {
     "name": "stdout",
     "output_type": "stream",
     "text": [
      "Congratulations! You just earned 5 points for shooting the green alien.\n",
      "Congratulations! You just earned 10 points for shooting the yellow alien.\n",
      "Congratulations! You just earned 15 points for shooting the red alien.\n"
     ]
    }
   ],
   "source": [
    "#5.5\n",
    "# Alien Colors #3\n",
    "\n",
    "# Green alien\n",
    "alien_color = \"green\"\n",
    "\n",
    "# If-elif-else chain to test alien's color\n",
    "if alien_color == \"green\":\n",
    "    print(\"Congratulations! You just earned 5 points for shooting the green alien.\")\n",
    "elif alien_color == \"yellow\":\n",
    "    print(\"Congratulations! You just earned 10 points for shooting the yellow alien.\")\n",
    "else:\n",
    "    print(\"Congratulations! You just earned 15 points for shooting the red alien.\")\n",
    "\n",
    "# Alien Colors #3 - Second version\n",
    "\n",
    "# Yellow alien\n",
    "alien_color = \"yellow\"\n",
    "\n",
    "# If-elif-else chain to test alien's color\n",
    "if alien_color == \"green\":\n",
    "    print(\"Congratulations! You just earned 5 points for shooting the green alien.\")\n",
    "elif alien_color == \"yellow\":\n",
    "    print(\"Congratulations! You just earned 10 points for shooting the yellow alien.\")\n",
    "else:\n",
    "    print(\"Congratulations! You just earned 15 points for shooting the red alien.\")\n",
    "\n",
    "# Alien Colors #3 - Third version\n",
    "\n",
    "# Red alien\n",
    "alien_color = \"red\"\n",
    "\n",
    "# If-elif-else chain to test alien's color\n",
    "if alien_color == \"green\":\n",
    "    print(\"Congratulations! You just earned 5 points for shooting the green alien.\")\n",
    "elif alien_color == \"yellow\":\n",
    "    print(\"Congratulations! You just earned 10 points for shooting the yellow alien.\")\n",
    "else:\n",
    "    print(\"Congratulations! You just earned 15 points for shooting the red alien.\")\n"
   ]
  },
  {
   "cell_type": "code",
   "execution_count": 7,
   "id": "679fc852",
   "metadata": {},
   "outputs": [
    {
     "name": "stdout",
     "output_type": "stream",
     "text": [
      "The person is an adult.\n"
     ]
    }
   ],
   "source": [
    "#5.6\n",
    "age = 30\n",
    "\n",
    "if age < 2:\n",
    "    print(\"The person is a baby.\")\n",
    "elif age < 4:\n",
    "    print(\"The person is a toddler.\")\n",
    "elif age < 13:\n",
    "    print(\"The person is a kid.\")\n",
    "elif age < 20:\n",
    "    print(\"The person is a teenager.\")\n",
    "elif age < 65:\n",
    "    print(\"The person is an adult.\")\n",
    "else:\n",
    "    print(\"The person is an elder.\")\n"
   ]
  },
  {
   "cell_type": "code",
   "execution_count": 8,
   "id": "ba15397b",
   "metadata": {},
   "outputs": [
    {
     "name": "stdout",
     "output_type": "stream",
     "text": [
      "You really like bananas!\n",
      "You really like apples!\n",
      "You really like mangoes!\n"
     ]
    }
   ],
   "source": [
    "#5.7\n",
    "favorite_fruits = ['apple', 'banana', 'mango']\n",
    "\n",
    "if 'banana' in favorite_fruits:\n",
    "    print(\"You really like bananas!\")\n",
    "    \n",
    "if 'apple' in favorite_fruits:\n",
    "    print(\"You really like apples!\")\n",
    "    \n",
    "if 'orange' in favorite_fruits:\n",
    "    print(\"You really like oranges!\")\n",
    "    \n",
    "if 'mango' in favorite_fruits:\n",
    "    print(\"You really like mangoes!\")\n",
    "    \n",
    "if 'pineapple' in favorite_fruits:\n",
    "    print(\"You really like pineapples!\")\n"
   ]
  },
  {
   "cell_type": "code",
   "execution_count": 9,
   "id": "e7c7aaba",
   "metadata": {},
   "outputs": [
    {
     "name": "stdout",
     "output_type": "stream",
     "text": [
      "Hello Alice, thank you for logging in again.\n",
      "Hello Bob, thank you for logging in again.\n",
      "Hello Charlie, thank you for logging in again.\n",
      "Hello admin, would you like to see a status report?\n",
      "Hello Diana, thank you for logging in again.\n"
     ]
    }
   ],
   "source": [
    "#5.8\n",
    "usernames = ['alice', 'bob', 'charlie', 'admin', 'diana']\n",
    "\n",
    "for username in usernames:\n",
    "    if username == 'admin':\n",
    "        print(\"Hello admin, would you like to see a status report?\")\n",
    "    else:\n",
    "        print(f\"Hello {username.title()}, thank you for logging in again.\")\n"
   ]
  },
  {
   "cell_type": "code",
   "execution_count": 10,
   "id": "591f4a5c",
   "metadata": {},
   "outputs": [
    {
     "name": "stdout",
     "output_type": "stream",
     "text": [
      "We need to find some users!\n"
     ]
    }
   ],
   "source": [
    "#5.9\n",
    "users = []\n",
    "\n",
    "if users:\n",
    "    for user in users:\n",
    "        if user == 'admin':\n",
    "            print(\"Hello admin, would you like to see a status report?\")\n",
    "        else:\n",
    "            print(f\"Hello {user}, thank you for logging in again.\")\n",
    "else:\n",
    "    print(\"We need to find some users!\")\n"
   ]
  },
  {
   "cell_type": "code",
   "execution_count": 13,
   "id": "b390c3a4",
   "metadata": {},
   "outputs": [
    {
     "name": "stdout",
     "output_type": "stream",
     "text": [
      "The username 'frank' is available.\n",
      "Sorry, the username 'dave' is already taken. Please enter a new username.\n",
      "The username 'george' is available.\n",
      "Sorry, the username 'alice' is already taken. Please enter a new username.\n",
      "The username 'hannah' is available.\n"
     ]
    }
   ],
   "source": [
    "current_users = ['alice', 'bob', 'charlie', 'dave', 'eve']\n",
    "new_users = ['frank', 'dave', 'george', 'alice', 'hannah']\n",
    "\n",
    "current_users_lower = [user.lower() for user in current_users]\n",
    "\n",
    "for new_user in new_users:\n",
    "    if new_user.lower() in current_users_lower:\n",
    "        print(f\"Sorry, the username '{new_user}' is already taken. Please enter a new username.\")\n",
    "    else:\n",
    "        print(f\"The username '{new_user}' is available.\")\n"
   ]
  },
  {
   "cell_type": "code",
   "execution_count": 14,
   "id": "bd398edc",
   "metadata": {},
   "outputs": [
    {
     "name": "stdout",
     "output_type": "stream",
     "text": [
      "1 st\n",
      "2 nd\n",
      "3 rd\n",
      "4 th\n",
      "5 th\n",
      "6 th\n",
      "7 th\n",
      "8 th\n",
      "9 th\n"
     ]
    }
   ],
   "source": [
    "#5-11. \n",
    "num=[1,2,3,4,5,6,7,8,9]\n",
    "for n in num:\n",
    "    if n ==1:\n",
    "        print(n,\"st\")\n",
    "    elif n ==2:\n",
    "        print(n,\"nd\")\n",
    "    elif n==3:\n",
    "        print(n,\"rd\")\n",
    "    else:\n",
    "        print(n,\"th\")"
   ]
  },
  {
   "cell_type": "code",
   "execution_count": null,
   "id": "945b2acc",
   "metadata": {},
   "outputs": [],
   "source": []
  }
 ],
 "metadata": {
  "kernelspec": {
   "display_name": "Python 3 (ipykernel)",
   "language": "python",
   "name": "python3"
  },
  "language_info": {
   "codemirror_mode": {
    "name": "ipython",
    "version": 3
   },
   "file_extension": ".py",
   "mimetype": "text/x-python",
   "name": "python",
   "nbconvert_exporter": "python",
   "pygments_lexer": "ipython3",
   "version": "3.9.13"
  }
 },
 "nbformat": 4,
 "nbformat_minor": 5
}
