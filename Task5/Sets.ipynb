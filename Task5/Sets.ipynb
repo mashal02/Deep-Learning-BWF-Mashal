{
 "cells": [
  {
   "cell_type": "code",
   "execution_count": 4,
   "id": "287d66ed",
   "metadata": {},
   "outputs": [
    {
     "name": "stdout",
     "output_type": "stream",
     "text": [
      "Union: {1, 2, 3, 'c', 'a', 'b'}\n",
      "Update method:  {1, 2, 3, 'c', 'a', 'b'}\n"
     ]
    }
   ],
   "source": [
    "#Set Union\n",
    "set1 = {\"a\", \"b\" , \"c\"}\n",
    "set2 = {1, 2, 3}\n",
    "\n",
    "set3 = set1.union(set2)\n",
    "print(\"Union:\" , set3)\n",
    "\n",
    "\n",
    "\n",
    "set1.update(set2)\n",
    "print(\"Update method: \" ,set1)\n"
   ]
  },
  {
   "cell_type": "code",
   "execution_count": 7,
   "id": "dc644b60",
   "metadata": {},
   "outputs": [
    {
     "name": "stdout",
     "output_type": "stream",
     "text": [
      "Intersection update:  {'apple'}\n",
      "Intersection() :  {'apple'}\n",
      "{'banana', 'cherry'}\n"
     ]
    }
   ],
   "source": [
    "#Set Intersection\n",
    "x = {\"apple\", \"banana\", \"cherry\"}\n",
    "y = {\"google\", \"microsoft\", \"apple\"}\n",
    "\n",
    "x.intersection_update(y)\n",
    "print(\"Intersection update: \",x)\n",
    "\n",
    "x = {\"apple\", \"banana\", \"cherry\"}\n",
    "y = {\"google\", \"microsoft\", \"apple\"}\n",
    "\n",
    "z = x.intersection(y)\n",
    "print(\"Intersection() : \",z)\n",
    "\n"
   ]
  },
  {
   "cell_type": "code",
   "execution_count": 9,
   "id": "62235711",
   "metadata": {},
   "outputs": [
    {
     "name": "stdout",
     "output_type": "stream",
     "text": [
      "{'banana', 'cherry'}\n",
      "{'banana', 'microsoft', 'google', 'cherry'}\n"
     ]
    }
   ],
   "source": [
    "#simple difference\n",
    "x = {\"apple\", \"banana\", \"cherry\"}\n",
    "y = {\"google\", \"microsoft\", \"apple\"}\n",
    "print(x-y)\n",
    "\n",
    "#symmetric difference\n",
    "x = {\"apple\", \"banana\", \"cherry\"}\n",
    "y = {\"google\", \"microsoft\", \"apple\"}\n",
    "\n",
    "z = x.symmetric_difference(y)\n",
    "\n",
    "print(z)"
   ]
  },
  {
   "cell_type": "code",
   "execution_count": 10,
   "id": "abdc1677",
   "metadata": {},
   "outputs": [
    {
     "name": "stdout",
     "output_type": "stream",
     "text": [
      "{1, 2, 3}\n"
     ]
    }
   ],
   "source": [
    "#making data unique with sets\n",
    "x=[1,2,3,1,2,2,3]\n",
    "y=set(x)\n",
    "print(y)"
   ]
  },
  {
   "cell_type": "code",
   "execution_count": null,
   "id": "1c6a3cae",
   "metadata": {},
   "outputs": [],
   "source": []
  }
 ],
 "metadata": {
  "kernelspec": {
   "display_name": "Python 3 (ipykernel)",
   "language": "python",
   "name": "python3"
  },
  "language_info": {
   "codemirror_mode": {
    "name": "ipython",
    "version": 3
   },
   "file_extension": ".py",
   "mimetype": "text/x-python",
   "name": "python",
   "nbconvert_exporter": "python",
   "pygments_lexer": "ipython3",
   "version": "3.9.13"
  }
 },
 "nbformat": 4,
 "nbformat_minor": 5
}
