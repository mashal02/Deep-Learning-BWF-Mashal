{
 "cells": [
  {
   "cell_type": "code",
   "execution_count": 1,
   "id": "94e5fc6d",
   "metadata": {},
   "outputs": [
    {
     "name": "stdout",
     "output_type": "stream",
     "text": [
      "Execution time: 0.03368687629699707\n",
      "Execution time: 1.6831880999999989 \n"
     ]
    }
   ],
   "source": [
    "# Import modules\n",
    "import time\n",
    "import timeit\n",
    "\n",
    "# Method 1:Using the time module\n",
    "start_time = time.time()\n",
    "\n",
    "# Put code here\n",
    "for i in range(1000000):\n",
    "    pass\n",
    "\n",
    "end_time = time.time()\n",
    "elapsed_time = end_time - start_time\n",
    "print(f\"Execution time: {elapsed_time}\")\n",
    "\n",
    "# Method 2:Using the timeit module\n",
    "execution_time = timeit.timeit('''\n",
    "for i in range(1000000):\n",
    "    pass\n",
    "''', number=100)\n",
    "print(f\"Execution time: {execution_time} \")\n",
    "\n"
   ]
  },
  {
   "cell_type": "code",
   "execution_count": null,
   "id": "e9b321f5",
   "metadata": {},
   "outputs": [],
   "source": []
  }
 ],
 "metadata": {
  "kernelspec": {
   "display_name": "Python 3 (ipykernel)",
   "language": "python",
   "name": "python3"
  },
  "language_info": {
   "codemirror_mode": {
    "name": "ipython",
    "version": 3
   },
   "file_extension": ".py",
   "mimetype": "text/x-python",
   "name": "python",
   "nbconvert_exporter": "python",
   "pygments_lexer": "ipython3",
   "version": "3.9.13"
  }
 },
 "nbformat": 4,
 "nbformat_minor": 5
}
